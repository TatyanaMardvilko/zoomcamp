{
 "cells": [
  {
   "cell_type": "code",
   "execution_count": 1,
   "id": "4084e527",
   "metadata": {},
   "outputs": [],
   "source": [
    "import pandas as pd\n",
    "import numpy as np\n",
    "import matplotlib as plt"
   ]
  },
  {
   "cell_type": "code",
   "execution_count": 2,
   "id": "609f0370",
   "metadata": {},
   "outputs": [
    {
     "data": {
      "text/html": [
       "<div>\n",
       "<style scoped>\n",
       "    .dataframe tbody tr th:only-of-type {\n",
       "        vertical-align: middle;\n",
       "    }\n",
       "\n",
       "    .dataframe tbody tr th {\n",
       "        vertical-align: top;\n",
       "    }\n",
       "\n",
       "    .dataframe thead th {\n",
       "        text-align: right;\n",
       "    }\n",
       "</style>\n",
       "<table border=\"1\" class=\"dataframe\">\n",
       "  <thead>\n",
       "    <tr style=\"text-align: right;\">\n",
       "      <th></th>\n",
       "      <th>longitude</th>\n",
       "      <th>latitude</th>\n",
       "      <th>housing_median_age</th>\n",
       "      <th>total_rooms</th>\n",
       "      <th>total_bedrooms</th>\n",
       "      <th>population</th>\n",
       "      <th>households</th>\n",
       "      <th>median_income</th>\n",
       "      <th>median_house_value</th>\n",
       "      <th>ocean_proximity</th>\n",
       "    </tr>\n",
       "  </thead>\n",
       "  <tbody>\n",
       "    <tr>\n",
       "      <th>0</th>\n",
       "      <td>-122.23</td>\n",
       "      <td>37.88</td>\n",
       "      <td>41.0</td>\n",
       "      <td>880.0</td>\n",
       "      <td>129.0</td>\n",
       "      <td>322.0</td>\n",
       "      <td>126.0</td>\n",
       "      <td>8.3252</td>\n",
       "      <td>452600.0</td>\n",
       "      <td>NEAR BAY</td>\n",
       "    </tr>\n",
       "    <tr>\n",
       "      <th>1</th>\n",
       "      <td>-122.22</td>\n",
       "      <td>37.86</td>\n",
       "      <td>21.0</td>\n",
       "      <td>7099.0</td>\n",
       "      <td>1106.0</td>\n",
       "      <td>2401.0</td>\n",
       "      <td>1138.0</td>\n",
       "      <td>8.3014</td>\n",
       "      <td>358500.0</td>\n",
       "      <td>NEAR BAY</td>\n",
       "    </tr>\n",
       "    <tr>\n",
       "      <th>2</th>\n",
       "      <td>-122.24</td>\n",
       "      <td>37.85</td>\n",
       "      <td>52.0</td>\n",
       "      <td>1467.0</td>\n",
       "      <td>190.0</td>\n",
       "      <td>496.0</td>\n",
       "      <td>177.0</td>\n",
       "      <td>7.2574</td>\n",
       "      <td>352100.0</td>\n",
       "      <td>NEAR BAY</td>\n",
       "    </tr>\n",
       "    <tr>\n",
       "      <th>3</th>\n",
       "      <td>-122.25</td>\n",
       "      <td>37.85</td>\n",
       "      <td>52.0</td>\n",
       "      <td>1274.0</td>\n",
       "      <td>235.0</td>\n",
       "      <td>558.0</td>\n",
       "      <td>219.0</td>\n",
       "      <td>5.6431</td>\n",
       "      <td>341300.0</td>\n",
       "      <td>NEAR BAY</td>\n",
       "    </tr>\n",
       "    <tr>\n",
       "      <th>4</th>\n",
       "      <td>-122.25</td>\n",
       "      <td>37.85</td>\n",
       "      <td>52.0</td>\n",
       "      <td>1627.0</td>\n",
       "      <td>280.0</td>\n",
       "      <td>565.0</td>\n",
       "      <td>259.0</td>\n",
       "      <td>3.8462</td>\n",
       "      <td>342200.0</td>\n",
       "      <td>NEAR BAY</td>\n",
       "    </tr>\n",
       "  </tbody>\n",
       "</table>\n",
       "</div>"
      ],
      "text/plain": [
       "   longitude  latitude  housing_median_age  total_rooms  total_bedrooms  \\\n",
       "0    -122.23     37.88                41.0        880.0           129.0   \n",
       "1    -122.22     37.86                21.0       7099.0          1106.0   \n",
       "2    -122.24     37.85                52.0       1467.0           190.0   \n",
       "3    -122.25     37.85                52.0       1274.0           235.0   \n",
       "4    -122.25     37.85                52.0       1627.0           280.0   \n",
       "\n",
       "   population  households  median_income  median_house_value ocean_proximity  \n",
       "0       322.0       126.0         8.3252            452600.0        NEAR BAY  \n",
       "1      2401.0      1138.0         8.3014            358500.0        NEAR BAY  \n",
       "2       496.0       177.0         7.2574            352100.0        NEAR BAY  \n",
       "3       558.0       219.0         5.6431            341300.0        NEAR BAY  \n",
       "4       565.0       259.0         3.8462            342200.0        NEAR BAY  "
      ]
     },
     "execution_count": 2,
     "metadata": {},
     "output_type": "execute_result"
    }
   ],
   "source": [
    "df = pd.read_csv('d:\\maschineLearning\\zoomcamp\\week3\\housing.csv')\n",
    "df.head()"
   ]
  },
  {
   "cell_type": "code",
   "execution_count": 3,
   "id": "3779aa22",
   "metadata": {},
   "outputs": [
    {
     "data": {
      "text/plain": [
       "(20640, 10)"
      ]
     },
     "execution_count": 3,
     "metadata": {},
     "output_type": "execute_result"
    }
   ],
   "source": [
    "df.shape"
   ]
  },
  {
   "cell_type": "code",
   "execution_count": 4,
   "id": "5e0f45f3",
   "metadata": {},
   "outputs": [
    {
     "data": {
      "text/plain": [
       "longitude             float64\n",
       "latitude              float64\n",
       "housing_median_age    float64\n",
       "total_rooms           float64\n",
       "total_bedrooms        float64\n",
       "population            float64\n",
       "households            float64\n",
       "median_income         float64\n",
       "median_house_value    float64\n",
       "ocean_proximity        object\n",
       "dtype: object"
      ]
     },
     "execution_count": 4,
     "metadata": {},
     "output_type": "execute_result"
    }
   ],
   "source": [
    "df.dtypes"
   ]
  },
  {
   "cell_type": "markdown",
   "id": "d9006d12",
   "metadata": {},
   "source": [
    "# Data preparation"
   ]
  },
  {
   "cell_type": "code",
   "execution_count": 5,
   "id": "b634f8df",
   "metadata": {},
   "outputs": [
    {
     "data": {
      "text/html": [
       "<div>\n",
       "<style scoped>\n",
       "    .dataframe tbody tr th:only-of-type {\n",
       "        vertical-align: middle;\n",
       "    }\n",
       "\n",
       "    .dataframe tbody tr th {\n",
       "        vertical-align: top;\n",
       "    }\n",
       "\n",
       "    .dataframe thead th {\n",
       "        text-align: right;\n",
       "    }\n",
       "</style>\n",
       "<table border=\"1\" class=\"dataframe\">\n",
       "  <thead>\n",
       "    <tr style=\"text-align: right;\">\n",
       "      <th></th>\n",
       "      <th>0</th>\n",
       "      <th>1</th>\n",
       "      <th>2</th>\n",
       "      <th>3</th>\n",
       "      <th>4</th>\n",
       "      <th>5</th>\n",
       "      <th>6</th>\n",
       "      <th>7</th>\n",
       "      <th>8</th>\n",
       "      <th>9</th>\n",
       "    </tr>\n",
       "  </thead>\n",
       "  <tbody>\n",
       "    <tr>\n",
       "      <th>longitude</th>\n",
       "      <td>-122.23</td>\n",
       "      <td>-122.22</td>\n",
       "      <td>-122.24</td>\n",
       "      <td>-122.25</td>\n",
       "      <td>-122.25</td>\n",
       "      <td>-122.25</td>\n",
       "      <td>-122.25</td>\n",
       "      <td>-122.25</td>\n",
       "      <td>-122.26</td>\n",
       "      <td>-122.25</td>\n",
       "    </tr>\n",
       "    <tr>\n",
       "      <th>latitude</th>\n",
       "      <td>37.88</td>\n",
       "      <td>37.86</td>\n",
       "      <td>37.85</td>\n",
       "      <td>37.85</td>\n",
       "      <td>37.85</td>\n",
       "      <td>37.85</td>\n",
       "      <td>37.84</td>\n",
       "      <td>37.84</td>\n",
       "      <td>37.84</td>\n",
       "      <td>37.84</td>\n",
       "    </tr>\n",
       "    <tr>\n",
       "      <th>housing_median_age</th>\n",
       "      <td>41.0</td>\n",
       "      <td>21.0</td>\n",
       "      <td>52.0</td>\n",
       "      <td>52.0</td>\n",
       "      <td>52.0</td>\n",
       "      <td>52.0</td>\n",
       "      <td>52.0</td>\n",
       "      <td>52.0</td>\n",
       "      <td>42.0</td>\n",
       "      <td>52.0</td>\n",
       "    </tr>\n",
       "    <tr>\n",
       "      <th>total_rooms</th>\n",
       "      <td>880.0</td>\n",
       "      <td>7099.0</td>\n",
       "      <td>1467.0</td>\n",
       "      <td>1274.0</td>\n",
       "      <td>1627.0</td>\n",
       "      <td>919.0</td>\n",
       "      <td>2535.0</td>\n",
       "      <td>3104.0</td>\n",
       "      <td>2555.0</td>\n",
       "      <td>3549.0</td>\n",
       "    </tr>\n",
       "    <tr>\n",
       "      <th>total_bedrooms</th>\n",
       "      <td>129.0</td>\n",
       "      <td>1106.0</td>\n",
       "      <td>190.0</td>\n",
       "      <td>235.0</td>\n",
       "      <td>280.0</td>\n",
       "      <td>213.0</td>\n",
       "      <td>489.0</td>\n",
       "      <td>687.0</td>\n",
       "      <td>665.0</td>\n",
       "      <td>707.0</td>\n",
       "    </tr>\n",
       "    <tr>\n",
       "      <th>population</th>\n",
       "      <td>322.0</td>\n",
       "      <td>2401.0</td>\n",
       "      <td>496.0</td>\n",
       "      <td>558.0</td>\n",
       "      <td>565.0</td>\n",
       "      <td>413.0</td>\n",
       "      <td>1094.0</td>\n",
       "      <td>1157.0</td>\n",
       "      <td>1206.0</td>\n",
       "      <td>1551.0</td>\n",
       "    </tr>\n",
       "    <tr>\n",
       "      <th>households</th>\n",
       "      <td>126.0</td>\n",
       "      <td>1138.0</td>\n",
       "      <td>177.0</td>\n",
       "      <td>219.0</td>\n",
       "      <td>259.0</td>\n",
       "      <td>193.0</td>\n",
       "      <td>514.0</td>\n",
       "      <td>647.0</td>\n",
       "      <td>595.0</td>\n",
       "      <td>714.0</td>\n",
       "    </tr>\n",
       "    <tr>\n",
       "      <th>median_income</th>\n",
       "      <td>8.3252</td>\n",
       "      <td>8.3014</td>\n",
       "      <td>7.2574</td>\n",
       "      <td>5.6431</td>\n",
       "      <td>3.8462</td>\n",
       "      <td>4.0368</td>\n",
       "      <td>3.6591</td>\n",
       "      <td>3.12</td>\n",
       "      <td>2.0804</td>\n",
       "      <td>3.6912</td>\n",
       "    </tr>\n",
       "    <tr>\n",
       "      <th>median_house_value</th>\n",
       "      <td>452600.0</td>\n",
       "      <td>358500.0</td>\n",
       "      <td>352100.0</td>\n",
       "      <td>341300.0</td>\n",
       "      <td>342200.0</td>\n",
       "      <td>269700.0</td>\n",
       "      <td>299200.0</td>\n",
       "      <td>241400.0</td>\n",
       "      <td>226700.0</td>\n",
       "      <td>261100.0</td>\n",
       "    </tr>\n",
       "    <tr>\n",
       "      <th>ocean_proximity</th>\n",
       "      <td>NEAR BAY</td>\n",
       "      <td>NEAR BAY</td>\n",
       "      <td>NEAR BAY</td>\n",
       "      <td>NEAR BAY</td>\n",
       "      <td>NEAR BAY</td>\n",
       "      <td>NEAR BAY</td>\n",
       "      <td>NEAR BAY</td>\n",
       "      <td>NEAR BAY</td>\n",
       "      <td>NEAR BAY</td>\n",
       "      <td>NEAR BAY</td>\n",
       "    </tr>\n",
       "  </tbody>\n",
       "</table>\n",
       "</div>"
      ],
      "text/plain": [
       "                           0         1         2         3         4  \\\n",
       "longitude            -122.23   -122.22   -122.24   -122.25   -122.25   \n",
       "latitude               37.88     37.86     37.85     37.85     37.85   \n",
       "housing_median_age      41.0      21.0      52.0      52.0      52.0   \n",
       "total_rooms            880.0    7099.0    1467.0    1274.0    1627.0   \n",
       "total_bedrooms         129.0    1106.0     190.0     235.0     280.0   \n",
       "population             322.0    2401.0     496.0     558.0     565.0   \n",
       "households             126.0    1138.0     177.0     219.0     259.0   \n",
       "median_income         8.3252    8.3014    7.2574    5.6431    3.8462   \n",
       "median_house_value  452600.0  358500.0  352100.0  341300.0  342200.0   \n",
       "ocean_proximity     NEAR BAY  NEAR BAY  NEAR BAY  NEAR BAY  NEAR BAY   \n",
       "\n",
       "                           5         6         7         8         9  \n",
       "longitude            -122.25   -122.25   -122.25   -122.26   -122.25  \n",
       "latitude               37.85     37.84     37.84     37.84     37.84  \n",
       "housing_median_age      52.0      52.0      52.0      42.0      52.0  \n",
       "total_rooms            919.0    2535.0    3104.0    2555.0    3549.0  \n",
       "total_bedrooms         213.0     489.0     687.0     665.0     707.0  \n",
       "population             413.0    1094.0    1157.0    1206.0    1551.0  \n",
       "households             193.0     514.0     647.0     595.0     714.0  \n",
       "median_income         4.0368    3.6591      3.12    2.0804    3.6912  \n",
       "median_house_value  269700.0  299200.0  241400.0  226700.0  261100.0  \n",
       "ocean_proximity     NEAR BAY  NEAR BAY  NEAR BAY  NEAR BAY  NEAR BAY  "
      ]
     },
     "execution_count": 5,
     "metadata": {},
     "output_type": "execute_result"
    }
   ],
   "source": [
    "df.iloc[:10].T"
   ]
  },
  {
   "cell_type": "code",
   "execution_count": 6,
   "id": "2dbc4329",
   "metadata": {},
   "outputs": [
    {
     "data": {
      "text/plain": [
       "('ocean_proximity',)"
      ]
     },
     "execution_count": 6,
     "metadata": {},
     "output_type": "execute_result"
    }
   ],
   "source": [
    "'latitude',\n",
    "'longitude',\n",
    "'housing_median_age',\n",
    "'total_rooms',\n",
    "'total_bedrooms',\n",
    "'population',\n",
    "'households',\n",
    "'median_income',\n",
    "'median_house_value',\n",
    "'ocean_proximity',"
   ]
  },
  {
   "cell_type": "code",
   "execution_count": 7,
   "id": "6d3b68de",
   "metadata": {},
   "outputs": [
    {
     "data": {
      "text/plain": [
       "longitude               0\n",
       "latitude                0\n",
       "housing_median_age      0\n",
       "total_rooms             0\n",
       "total_bedrooms        207\n",
       "population              0\n",
       "households              0\n",
       "median_income           0\n",
       "median_house_value      0\n",
       "ocean_proximity         0\n",
       "dtype: int64"
      ]
     },
     "execution_count": 7,
     "metadata": {},
     "output_type": "execute_result"
    }
   ],
   "source": [
    "df.isnull().sum()"
   ]
  },
  {
   "cell_type": "code",
   "execution_count": 8,
   "id": "06d5409d",
   "metadata": {},
   "outputs": [
    {
     "data": {
      "text/plain": [
       "longitude             0\n",
       "latitude              0\n",
       "housing_median_age    0\n",
       "total_rooms           0\n",
       "total_bedrooms        0\n",
       "population            0\n",
       "households            0\n",
       "median_income         0\n",
       "median_house_value    0\n",
       "ocean_proximity       0\n",
       "dtype: int64"
      ]
     },
     "execution_count": 8,
     "metadata": {},
     "output_type": "execute_result"
    }
   ],
   "source": [
    "df = df.fillna(0)\n",
    "df.isnull().sum()"
   ]
  },
  {
   "cell_type": "code",
   "execution_count": 9,
   "id": "b7987bb3",
   "metadata": {},
   "outputs": [],
   "source": [
    "df['rooms_per_household'] = df['total_rooms'] / df['households']\n",
    "df['bedrooms_per_room'] = df['total_bedrooms'] / df['total_rooms']\n",
    "df['population_per_household'] = df['population'] / df['households']"
   ]
  },
  {
   "cell_type": "code",
   "execution_count": 10,
   "id": "7cf4b3e1",
   "metadata": {},
   "outputs": [
    {
     "data": {
      "text/html": [
       "<div>\n",
       "<style scoped>\n",
       "    .dataframe tbody tr th:only-of-type {\n",
       "        vertical-align: middle;\n",
       "    }\n",
       "\n",
       "    .dataframe tbody tr th {\n",
       "        vertical-align: top;\n",
       "    }\n",
       "\n",
       "    .dataframe thead th {\n",
       "        text-align: right;\n",
       "    }\n",
       "</style>\n",
       "<table border=\"1\" class=\"dataframe\">\n",
       "  <thead>\n",
       "    <tr style=\"text-align: right;\">\n",
       "      <th></th>\n",
       "      <th>0</th>\n",
       "      <th>1</th>\n",
       "      <th>2</th>\n",
       "      <th>3</th>\n",
       "      <th>4</th>\n",
       "    </tr>\n",
       "  </thead>\n",
       "  <tbody>\n",
       "    <tr>\n",
       "      <th>longitude</th>\n",
       "      <td>-122.23</td>\n",
       "      <td>-122.22</td>\n",
       "      <td>-122.24</td>\n",
       "      <td>-122.25</td>\n",
       "      <td>-122.25</td>\n",
       "    </tr>\n",
       "    <tr>\n",
       "      <th>latitude</th>\n",
       "      <td>37.88</td>\n",
       "      <td>37.86</td>\n",
       "      <td>37.85</td>\n",
       "      <td>37.85</td>\n",
       "      <td>37.85</td>\n",
       "    </tr>\n",
       "    <tr>\n",
       "      <th>housing_median_age</th>\n",
       "      <td>41.0</td>\n",
       "      <td>21.0</td>\n",
       "      <td>52.0</td>\n",
       "      <td>52.0</td>\n",
       "      <td>52.0</td>\n",
       "    </tr>\n",
       "    <tr>\n",
       "      <th>total_rooms</th>\n",
       "      <td>880.0</td>\n",
       "      <td>7099.0</td>\n",
       "      <td>1467.0</td>\n",
       "      <td>1274.0</td>\n",
       "      <td>1627.0</td>\n",
       "    </tr>\n",
       "    <tr>\n",
       "      <th>total_bedrooms</th>\n",
       "      <td>129.0</td>\n",
       "      <td>1106.0</td>\n",
       "      <td>190.0</td>\n",
       "      <td>235.0</td>\n",
       "      <td>280.0</td>\n",
       "    </tr>\n",
       "    <tr>\n",
       "      <th>population</th>\n",
       "      <td>322.0</td>\n",
       "      <td>2401.0</td>\n",
       "      <td>496.0</td>\n",
       "      <td>558.0</td>\n",
       "      <td>565.0</td>\n",
       "    </tr>\n",
       "    <tr>\n",
       "      <th>households</th>\n",
       "      <td>126.0</td>\n",
       "      <td>1138.0</td>\n",
       "      <td>177.0</td>\n",
       "      <td>219.0</td>\n",
       "      <td>259.0</td>\n",
       "    </tr>\n",
       "    <tr>\n",
       "      <th>median_income</th>\n",
       "      <td>8.3252</td>\n",
       "      <td>8.3014</td>\n",
       "      <td>7.2574</td>\n",
       "      <td>5.6431</td>\n",
       "      <td>3.8462</td>\n",
       "    </tr>\n",
       "    <tr>\n",
       "      <th>median_house_value</th>\n",
       "      <td>452600.0</td>\n",
       "      <td>358500.0</td>\n",
       "      <td>352100.0</td>\n",
       "      <td>341300.0</td>\n",
       "      <td>342200.0</td>\n",
       "    </tr>\n",
       "    <tr>\n",
       "      <th>ocean_proximity</th>\n",
       "      <td>NEAR BAY</td>\n",
       "      <td>NEAR BAY</td>\n",
       "      <td>NEAR BAY</td>\n",
       "      <td>NEAR BAY</td>\n",
       "      <td>NEAR BAY</td>\n",
       "    </tr>\n",
       "    <tr>\n",
       "      <th>rooms_per_household</th>\n",
       "      <td>6.984127</td>\n",
       "      <td>6.238137</td>\n",
       "      <td>8.288136</td>\n",
       "      <td>5.817352</td>\n",
       "      <td>6.281853</td>\n",
       "    </tr>\n",
       "    <tr>\n",
       "      <th>bedrooms_per_room</th>\n",
       "      <td>0.146591</td>\n",
       "      <td>0.155797</td>\n",
       "      <td>0.129516</td>\n",
       "      <td>0.184458</td>\n",
       "      <td>0.172096</td>\n",
       "    </tr>\n",
       "    <tr>\n",
       "      <th>population_per_household</th>\n",
       "      <td>2.555556</td>\n",
       "      <td>2.109842</td>\n",
       "      <td>2.80226</td>\n",
       "      <td>2.547945</td>\n",
       "      <td>2.181467</td>\n",
       "    </tr>\n",
       "  </tbody>\n",
       "</table>\n",
       "</div>"
      ],
      "text/plain": [
       "                                 0         1         2         3         4\n",
       "longitude                  -122.23   -122.22   -122.24   -122.25   -122.25\n",
       "latitude                     37.88     37.86     37.85     37.85     37.85\n",
       "housing_median_age            41.0      21.0      52.0      52.0      52.0\n",
       "total_rooms                  880.0    7099.0    1467.0    1274.0    1627.0\n",
       "total_bedrooms               129.0    1106.0     190.0     235.0     280.0\n",
       "population                   322.0    2401.0     496.0     558.0     565.0\n",
       "households                   126.0    1138.0     177.0     219.0     259.0\n",
       "median_income               8.3252    8.3014    7.2574    5.6431    3.8462\n",
       "median_house_value        452600.0  358500.0  352100.0  341300.0  342200.0\n",
       "ocean_proximity           NEAR BAY  NEAR BAY  NEAR BAY  NEAR BAY  NEAR BAY\n",
       "rooms_per_household       6.984127  6.238137  8.288136  5.817352  6.281853\n",
       "bedrooms_per_room         0.146591  0.155797  0.129516  0.184458  0.172096\n",
       "population_per_household  2.555556  2.109842   2.80226  2.547945  2.181467"
      ]
     },
     "execution_count": 10,
     "metadata": {},
     "output_type": "execute_result"
    }
   ],
   "source": [
    "df.head().T"
   ]
  },
  {
   "cell_type": "code",
   "execution_count": 11,
   "id": "369879b9",
   "metadata": {},
   "outputs": [
    {
     "data": {
      "text/plain": [
       "array(['NEAR BAY', '<1H OCEAN', 'INLAND', 'NEAR OCEAN', 'ISLAND'],\n",
       "      dtype=object)"
      ]
     },
     "execution_count": 11,
     "metadata": {},
     "output_type": "execute_result"
    }
   ],
   "source": [
    "df['ocean_proximity'].unique()"
   ]
  },
  {
   "cell_type": "code",
   "execution_count": 12,
   "id": "92f35ecf",
   "metadata": {},
   "outputs": [
    {
     "data": {
      "text/plain": [
       "5"
      ]
     },
     "execution_count": 12,
     "metadata": {},
     "output_type": "execute_result"
    }
   ],
   "source": [
    "df['ocean_proximity'].nunique()"
   ]
  },
  {
   "cell_type": "code",
   "execution_count": 13,
   "id": "0025e5ad",
   "metadata": {},
   "outputs": [
    {
     "data": {
      "text/plain": [
       "'<1H OCEAN'"
      ]
     },
     "execution_count": 13,
     "metadata": {},
     "output_type": "execute_result"
    }
   ],
   "source": [
    "df['ocean_proximity'].mode()[0]     #Q1"
   ]
  },
  {
   "cell_type": "markdown",
   "id": "72b21f94",
   "metadata": {},
   "source": [
    "# Split the data"
   ]
  },
  {
   "cell_type": "code",
   "execution_count": 14,
   "id": "4249dc31",
   "metadata": {},
   "outputs": [],
   "source": [
    "from sklearn.model_selection import train_test_split"
   ]
  },
  {
   "cell_type": "code",
   "execution_count": 15,
   "id": "ece33772",
   "metadata": {},
   "outputs": [],
   "source": [
    "df_full_train, df_test = train_test_split(df, test_size = 0.2, random_state = 42)\n",
    "df_train, df_val = train_test_split(df_full_train, test_size = 0.25, random_state = 42)"
   ]
  },
  {
   "cell_type": "code",
   "execution_count": 16,
   "id": "3b25226a",
   "metadata": {},
   "outputs": [
    {
     "data": {
      "text/plain": [
       "(12384, 4128, 4128)"
      ]
     },
     "execution_count": 16,
     "metadata": {},
     "output_type": "execute_result"
    }
   ],
   "source": [
    "len(df_train), len(df_val), len(df_test)"
   ]
  },
  {
   "cell_type": "code",
   "execution_count": 17,
   "id": "b70c450b",
   "metadata": {},
   "outputs": [],
   "source": [
    "df_train = df_train.reset_index(drop = True)\n",
    "df_val = df_val.reset_index(drop = True)\n",
    "df_test = df_test.reset_index(drop = True)"
   ]
  },
  {
   "cell_type": "code",
   "execution_count": 18,
   "id": "ad781fb2",
   "metadata": {},
   "outputs": [],
   "source": [
    "y_train = df_train.median_house_value.values\n",
    "y_val = df_val.median_house_value.values\n",
    "y_test = df_test.median_house_value.values\n",
    "\n",
    "del df_train['median_house_value']\n",
    "del df_val['median_house_value']\n",
    "del df_test['median_house_value']"
   ]
  },
  {
   "cell_type": "code",
   "execution_count": 19,
   "id": "dcb98165",
   "metadata": {},
   "outputs": [
    {
     "data": {
      "text/html": [
       "<div>\n",
       "<style scoped>\n",
       "    .dataframe tbody tr th:only-of-type {\n",
       "        vertical-align: middle;\n",
       "    }\n",
       "\n",
       "    .dataframe tbody tr th {\n",
       "        vertical-align: top;\n",
       "    }\n",
       "\n",
       "    .dataframe thead th {\n",
       "        text-align: right;\n",
       "    }\n",
       "</style>\n",
       "<table border=\"1\" class=\"dataframe\">\n",
       "  <thead>\n",
       "    <tr style=\"text-align: right;\">\n",
       "      <th></th>\n",
       "      <th>0</th>\n",
       "      <th>1</th>\n",
       "      <th>2</th>\n",
       "      <th>3</th>\n",
       "      <th>4</th>\n",
       "    </tr>\n",
       "  </thead>\n",
       "  <tbody>\n",
       "    <tr>\n",
       "      <th>longitude</th>\n",
       "      <td>-119.67</td>\n",
       "      <td>-118.32</td>\n",
       "      <td>-121.62</td>\n",
       "      <td>-118.63</td>\n",
       "      <td>-122.3</td>\n",
       "    </tr>\n",
       "    <tr>\n",
       "      <th>latitude</th>\n",
       "      <td>34.43</td>\n",
       "      <td>33.74</td>\n",
       "      <td>39.13</td>\n",
       "      <td>34.24</td>\n",
       "      <td>37.52</td>\n",
       "    </tr>\n",
       "    <tr>\n",
       "      <th>housing_median_age</th>\n",
       "      <td>39.0</td>\n",
       "      <td>24.0</td>\n",
       "      <td>41.0</td>\n",
       "      <td>9.0</td>\n",
       "      <td>38.0</td>\n",
       "    </tr>\n",
       "    <tr>\n",
       "      <th>total_rooms</th>\n",
       "      <td>1467.0</td>\n",
       "      <td>6097.0</td>\n",
       "      <td>1317.0</td>\n",
       "      <td>4759.0</td>\n",
       "      <td>2769.0</td>\n",
       "    </tr>\n",
       "    <tr>\n",
       "      <th>total_bedrooms</th>\n",
       "      <td>381.0</td>\n",
       "      <td>794.0</td>\n",
       "      <td>309.0</td>\n",
       "      <td>924.0</td>\n",
       "      <td>387.0</td>\n",
       "    </tr>\n",
       "    <tr>\n",
       "      <th>population</th>\n",
       "      <td>1404.0</td>\n",
       "      <td>2248.0</td>\n",
       "      <td>856.0</td>\n",
       "      <td>1884.0</td>\n",
       "      <td>994.0</td>\n",
       "    </tr>\n",
       "    <tr>\n",
       "      <th>households</th>\n",
       "      <td>374.0</td>\n",
       "      <td>806.0</td>\n",
       "      <td>337.0</td>\n",
       "      <td>915.0</td>\n",
       "      <td>395.0</td>\n",
       "    </tr>\n",
       "    <tr>\n",
       "      <th>median_income</th>\n",
       "      <td>2.3681</td>\n",
       "      <td>10.1357</td>\n",
       "      <td>1.6719</td>\n",
       "      <td>4.8333</td>\n",
       "      <td>5.5902</td>\n",
       "    </tr>\n",
       "    <tr>\n",
       "      <th>ocean_proximity</th>\n",
       "      <td>&lt;1H OCEAN</td>\n",
       "      <td>NEAR OCEAN</td>\n",
       "      <td>INLAND</td>\n",
       "      <td>&lt;1H OCEAN</td>\n",
       "      <td>NEAR OCEAN</td>\n",
       "    </tr>\n",
       "    <tr>\n",
       "      <th>rooms_per_household</th>\n",
       "      <td>3.92246</td>\n",
       "      <td>7.564516</td>\n",
       "      <td>3.908012</td>\n",
       "      <td>5.201093</td>\n",
       "      <td>7.010127</td>\n",
       "    </tr>\n",
       "    <tr>\n",
       "      <th>bedrooms_per_room</th>\n",
       "      <td>0.259714</td>\n",
       "      <td>0.130228</td>\n",
       "      <td>0.234624</td>\n",
       "      <td>0.194158</td>\n",
       "      <td>0.139762</td>\n",
       "    </tr>\n",
       "    <tr>\n",
       "      <th>population_per_household</th>\n",
       "      <td>3.754011</td>\n",
       "      <td>2.789082</td>\n",
       "      <td>2.540059</td>\n",
       "      <td>2.059016</td>\n",
       "      <td>2.516456</td>\n",
       "    </tr>\n",
       "  </tbody>\n",
       "</table>\n",
       "</div>"
      ],
      "text/plain": [
       "                                  0           1         2          3  \\\n",
       "longitude                   -119.67     -118.32   -121.62    -118.63   \n",
       "latitude                      34.43       33.74     39.13      34.24   \n",
       "housing_median_age             39.0        24.0      41.0        9.0   \n",
       "total_rooms                  1467.0      6097.0    1317.0     4759.0   \n",
       "total_bedrooms                381.0       794.0     309.0      924.0   \n",
       "population                   1404.0      2248.0     856.0     1884.0   \n",
       "households                    374.0       806.0     337.0      915.0   \n",
       "median_income                2.3681     10.1357    1.6719     4.8333   \n",
       "ocean_proximity           <1H OCEAN  NEAR OCEAN    INLAND  <1H OCEAN   \n",
       "rooms_per_household         3.92246    7.564516  3.908012   5.201093   \n",
       "bedrooms_per_room          0.259714    0.130228  0.234624   0.194158   \n",
       "population_per_household   3.754011    2.789082  2.540059   2.059016   \n",
       "\n",
       "                                   4  \n",
       "longitude                     -122.3  \n",
       "latitude                       37.52  \n",
       "housing_median_age              38.0  \n",
       "total_rooms                   2769.0  \n",
       "total_bedrooms                 387.0  \n",
       "population                     994.0  \n",
       "households                     395.0  \n",
       "median_income                 5.5902  \n",
       "ocean_proximity           NEAR OCEAN  \n",
       "rooms_per_household         7.010127  \n",
       "bedrooms_per_room           0.139762  \n",
       "population_per_household    2.516456  "
      ]
     },
     "execution_count": 19,
     "metadata": {},
     "output_type": "execute_result"
    }
   ],
   "source": [
    "df_train.head().T"
   ]
  },
  {
   "cell_type": "code",
   "execution_count": 20,
   "id": "dfc41a15",
   "metadata": {},
   "outputs": [],
   "source": [
    "numerical = ['latitude',\n",
    "'longitude',\n",
    "'housing_median_age',\n",
    "'total_rooms',\n",
    "'total_bedrooms',\n",
    "'population',\n",
    "'households',\n",
    "'median_income',\n",
    "'rooms_per_household',\n",
    "'bedrooms_per_room',\n",
    "'population_per_household']"
   ]
  },
  {
   "cell_type": "code",
   "execution_count": 21,
   "id": "a21c2452",
   "metadata": {},
   "outputs": [
    {
     "data": {
      "text/html": [
       "<div>\n",
       "<style scoped>\n",
       "    .dataframe tbody tr th:only-of-type {\n",
       "        vertical-align: middle;\n",
       "    }\n",
       "\n",
       "    .dataframe tbody tr th {\n",
       "        vertical-align: top;\n",
       "    }\n",
       "\n",
       "    .dataframe thead th {\n",
       "        text-align: right;\n",
       "    }\n",
       "</style>\n",
       "<table border=\"1\" class=\"dataframe\">\n",
       "  <thead>\n",
       "    <tr style=\"text-align: right;\">\n",
       "      <th></th>\n",
       "      <th>latitude</th>\n",
       "      <th>longitude</th>\n",
       "      <th>housing_median_age</th>\n",
       "      <th>total_rooms</th>\n",
       "      <th>total_bedrooms</th>\n",
       "      <th>population</th>\n",
       "      <th>households</th>\n",
       "      <th>median_income</th>\n",
       "      <th>rooms_per_household</th>\n",
       "      <th>bedrooms_per_room</th>\n",
       "      <th>population_per_household</th>\n",
       "    </tr>\n",
       "  </thead>\n",
       "  <tbody>\n",
       "    <tr>\n",
       "      <th>latitude</th>\n",
       "      <td>1.000</td>\n",
       "      <td>-0.925</td>\n",
       "      <td>0.002</td>\n",
       "      <td>-0.026</td>\n",
       "      <td>-0.060</td>\n",
       "      <td>-0.100</td>\n",
       "      <td>-0.064</td>\n",
       "      <td>-0.077</td>\n",
       "      <td>0.119</td>\n",
       "      <td>-0.125</td>\n",
       "      <td>-0.002</td>\n",
       "    </tr>\n",
       "    <tr>\n",
       "      <th>longitude</th>\n",
       "      <td>-0.925</td>\n",
       "      <td>1.000</td>\n",
       "      <td>-0.100</td>\n",
       "      <td>0.036</td>\n",
       "      <td>0.064</td>\n",
       "      <td>0.092</td>\n",
       "      <td>0.050</td>\n",
       "      <td>-0.016</td>\n",
       "      <td>-0.035</td>\n",
       "      <td>0.102</td>\n",
       "      <td>0.011</td>\n",
       "    </tr>\n",
       "    <tr>\n",
       "      <th>housing_median_age</th>\n",
       "      <td>0.002</td>\n",
       "      <td>-0.100</td>\n",
       "      <td>1.000</td>\n",
       "      <td>-0.364</td>\n",
       "      <td>-0.324</td>\n",
       "      <td>-0.292</td>\n",
       "      <td>-0.306</td>\n",
       "      <td>-0.120</td>\n",
       "      <td>-0.181</td>\n",
       "      <td>0.129</td>\n",
       "      <td>0.012</td>\n",
       "    </tr>\n",
       "    <tr>\n",
       "      <th>total_rooms</th>\n",
       "      <td>-0.026</td>\n",
       "      <td>0.036</td>\n",
       "      <td>-0.364</td>\n",
       "      <td>1.000</td>\n",
       "      <td>0.932</td>\n",
       "      <td>0.853</td>\n",
       "      <td>0.921</td>\n",
       "      <td>0.199</td>\n",
       "      <td>0.169</td>\n",
       "      <td>-0.194</td>\n",
       "      <td>-0.029</td>\n",
       "    </tr>\n",
       "    <tr>\n",
       "      <th>total_bedrooms</th>\n",
       "      <td>-0.060</td>\n",
       "      <td>0.064</td>\n",
       "      <td>-0.324</td>\n",
       "      <td>0.932</td>\n",
       "      <td>1.000</td>\n",
       "      <td>0.877</td>\n",
       "      <td>0.979</td>\n",
       "      <td>-0.010</td>\n",
       "      <td>0.010</td>\n",
       "      <td>0.078</td>\n",
       "      <td>-0.034</td>\n",
       "    </tr>\n",
       "    <tr>\n",
       "      <th>population</th>\n",
       "      <td>-0.100</td>\n",
       "      <td>0.092</td>\n",
       "      <td>-0.292</td>\n",
       "      <td>0.853</td>\n",
       "      <td>0.877</td>\n",
       "      <td>1.000</td>\n",
       "      <td>0.907</td>\n",
       "      <td>-0.001</td>\n",
       "      <td>-0.076</td>\n",
       "      <td>0.032</td>\n",
       "      <td>0.065</td>\n",
       "    </tr>\n",
       "    <tr>\n",
       "      <th>households</th>\n",
       "      <td>-0.064</td>\n",
       "      <td>0.050</td>\n",
       "      <td>-0.306</td>\n",
       "      <td>0.921</td>\n",
       "      <td>0.979</td>\n",
       "      <td>0.907</td>\n",
       "      <td>1.000</td>\n",
       "      <td>0.012</td>\n",
       "      <td>-0.086</td>\n",
       "      <td>0.058</td>\n",
       "      <td>-0.033</td>\n",
       "    </tr>\n",
       "    <tr>\n",
       "      <th>median_income</th>\n",
       "      <td>-0.077</td>\n",
       "      <td>-0.016</td>\n",
       "      <td>-0.120</td>\n",
       "      <td>0.199</td>\n",
       "      <td>-0.010</td>\n",
       "      <td>-0.001</td>\n",
       "      <td>0.012</td>\n",
       "      <td>1.000</td>\n",
       "      <td>0.394</td>\n",
       "      <td>-0.617</td>\n",
       "      <td>-0.000</td>\n",
       "    </tr>\n",
       "    <tr>\n",
       "      <th>rooms_per_household</th>\n",
       "      <td>0.119</td>\n",
       "      <td>-0.035</td>\n",
       "      <td>-0.181</td>\n",
       "      <td>0.169</td>\n",
       "      <td>0.010</td>\n",
       "      <td>-0.076</td>\n",
       "      <td>-0.086</td>\n",
       "      <td>0.394</td>\n",
       "      <td>1.000</td>\n",
       "      <td>-0.501</td>\n",
       "      <td>0.002</td>\n",
       "    </tr>\n",
       "    <tr>\n",
       "      <th>bedrooms_per_room</th>\n",
       "      <td>-0.125</td>\n",
       "      <td>0.102</td>\n",
       "      <td>0.129</td>\n",
       "      <td>-0.194</td>\n",
       "      <td>0.078</td>\n",
       "      <td>0.032</td>\n",
       "      <td>0.058</td>\n",
       "      <td>-0.617</td>\n",
       "      <td>-0.501</td>\n",
       "      <td>1.000</td>\n",
       "      <td>-0.003</td>\n",
       "    </tr>\n",
       "    <tr>\n",
       "      <th>population_per_household</th>\n",
       "      <td>-0.002</td>\n",
       "      <td>0.011</td>\n",
       "      <td>0.012</td>\n",
       "      <td>-0.029</td>\n",
       "      <td>-0.034</td>\n",
       "      <td>0.065</td>\n",
       "      <td>-0.033</td>\n",
       "      <td>-0.000</td>\n",
       "      <td>0.002</td>\n",
       "      <td>-0.003</td>\n",
       "      <td>1.000</td>\n",
       "    </tr>\n",
       "  </tbody>\n",
       "</table>\n",
       "</div>"
      ],
      "text/plain": [
       "                          latitude  longitude  housing_median_age  \\\n",
       "latitude                     1.000     -0.925               0.002   \n",
       "longitude                   -0.925      1.000              -0.100   \n",
       "housing_median_age           0.002     -0.100               1.000   \n",
       "total_rooms                 -0.026      0.036              -0.364   \n",
       "total_bedrooms              -0.060      0.064              -0.324   \n",
       "population                  -0.100      0.092              -0.292   \n",
       "households                  -0.064      0.050              -0.306   \n",
       "median_income               -0.077     -0.016              -0.120   \n",
       "rooms_per_household          0.119     -0.035              -0.181   \n",
       "bedrooms_per_room           -0.125      0.102               0.129   \n",
       "population_per_household    -0.002      0.011               0.012   \n",
       "\n",
       "                          total_rooms  total_bedrooms  population  households  \\\n",
       "latitude                       -0.026          -0.060      -0.100      -0.064   \n",
       "longitude                       0.036           0.064       0.092       0.050   \n",
       "housing_median_age             -0.364          -0.324      -0.292      -0.306   \n",
       "total_rooms                     1.000           0.932       0.853       0.921   \n",
       "total_bedrooms                  0.932           1.000       0.877       0.979   \n",
       "population                      0.853           0.877       1.000       0.907   \n",
       "households                      0.921           0.979       0.907       1.000   \n",
       "median_income                   0.199          -0.010      -0.001       0.012   \n",
       "rooms_per_household             0.169           0.010      -0.076      -0.086   \n",
       "bedrooms_per_room              -0.194           0.078       0.032       0.058   \n",
       "population_per_household       -0.029          -0.034       0.065      -0.033   \n",
       "\n",
       "                          median_income  rooms_per_household  \\\n",
       "latitude                         -0.077                0.119   \n",
       "longitude                        -0.016               -0.035   \n",
       "housing_median_age               -0.120               -0.181   \n",
       "total_rooms                       0.199                0.169   \n",
       "total_bedrooms                   -0.010                0.010   \n",
       "population                       -0.001               -0.076   \n",
       "households                        0.012               -0.086   \n",
       "median_income                     1.000                0.394   \n",
       "rooms_per_household               0.394                1.000   \n",
       "bedrooms_per_room                -0.617               -0.501   \n",
       "population_per_household         -0.000                0.002   \n",
       "\n",
       "                          bedrooms_per_room  population_per_household  \n",
       "latitude                             -0.125                    -0.002  \n",
       "longitude                             0.102                     0.011  \n",
       "housing_median_age                    0.129                     0.012  \n",
       "total_rooms                          -0.194                    -0.029  \n",
       "total_bedrooms                        0.078                    -0.034  \n",
       "population                            0.032                     0.065  \n",
       "households                            0.058                    -0.033  \n",
       "median_income                        -0.617                    -0.000  \n",
       "rooms_per_household                  -0.501                     0.002  \n",
       "bedrooms_per_room                     1.000                    -0.003  \n",
       "population_per_household             -0.003                     1.000  "
      ]
     },
     "execution_count": 21,
     "metadata": {},
     "output_type": "execute_result"
    }
   ],
   "source": [
    "corr_matrix = df_train[numerical].corr()\n",
    "corr_matrix = corr_matrix.round(3)\n",
    "corr_matrix"
   ]
  },
  {
   "cell_type": "code",
   "execution_count": 22,
   "id": "80934170",
   "metadata": {},
   "outputs": [],
   "source": [
    "import seaborn as sn"
   ]
  },
  {
   "cell_type": "code",
   "execution_count": 23,
   "id": "8ad88624",
   "metadata": {},
   "outputs": [],
   "source": [
    "plt.rcParams['figure.figsize'] = 7, 7"
   ]
  },
  {
   "cell_type": "code",
   "execution_count": 24,
   "id": "0a86cbf1",
   "metadata": {
    "scrolled": true
   },
   "outputs": [
    {
     "data": {
      "text/plain": [
       "<AxesSubplot:>"
      ]
     },
     "execution_count": 24,
     "metadata": {},
     "output_type": "execute_result"
    },
    {
     "data": {
      "image/png": "[encoded data removed]",
      "text/plain": [
       "<Figure size 700x700 with 2 Axes>"
      ]
     },
     "metadata": {},
     "output_type": "display_data"
    }
   ],
   "source": [
    "sn.heatmap(corr_matrix, annot = True, mask = np.triu(corr_matrix))"
   ]
  },
  {
   "cell_type": "code",
   "execution_count": 25,
   "id": "04bf8143",
   "metadata": {},
   "outputs": [],
   "source": [
    "#Question 2 'households'  'total_bedrooms'"
   ]
  },
  {
   "cell_type": "markdown",
   "id": "99c2f1b2",
   "metadata": {},
   "source": [
    "# Make median_house_value binary"
   ]
  },
  {
   "cell_type": "code",
   "execution_count": 26,
   "id": "c5519b78",
   "metadata": {},
   "outputs": [],
   "source": [
    "above_average = (y_train > y_train.mean()).astype(int)"
   ]
  },
  {
   "cell_type": "code",
   "execution_count": 27,
   "id": "843447ab",
   "metadata": {},
   "outputs": [
    {
     "data": {
      "text/plain": [
       "array([1, 1, 0, ..., 1, 0, 0])"
      ]
     },
     "execution_count": 27,
     "metadata": {},
     "output_type": "execute_result"
    }
   ],
   "source": [
    "above_average"
   ]
  },
  {
   "cell_type": "code",
   "execution_count": 28,
   "id": "e3d82630",
   "metadata": {},
   "outputs": [
    {
     "data": {
      "text/plain": [
       "12384"
      ]
     },
     "execution_count": 28,
     "metadata": {},
     "output_type": "execute_result"
    }
   ],
   "source": [
    "len(above_average)"
   ]
  },
  {
   "cell_type": "code",
   "execution_count": 29,
   "id": "b2212665",
   "metadata": {},
   "outputs": [],
   "source": [
    "from sklearn.metrics import mutual_info_score"
   ]
  },
  {
   "cell_type": "code",
   "execution_count": 30,
   "id": "2c04cc7b",
   "metadata": {},
   "outputs": [
    {
     "data": {
      "text/plain": [
       "0.10138385763624205"
      ]
     },
     "execution_count": 30,
     "metadata": {},
     "output_type": "execute_result"
    }
   ],
   "source": [
    "score = mutual_info_score(above_average, df_train['ocean_proximity'])\n",
    "score"
   ]
  },
  {
   "cell_type": "code",
   "execution_count": 31,
   "id": "0c7be367",
   "metadata": {},
   "outputs": [
    {
     "data": {
      "text/plain": [
       "0.1"
      ]
     },
     "execution_count": 31,
     "metadata": {},
     "output_type": "execute_result"
    }
   ],
   "source": [
    "round(score, 2) #Question 3"
   ]
  },
  {
   "cell_type": "code",
   "execution_count": 32,
   "id": "158e7bee",
   "metadata": {},
   "outputs": [
    {
     "data": {
      "text/plain": [
       "True"
      ]
     },
     "execution_count": 32,
     "metadata": {},
     "output_type": "execute_result"
    }
   ],
   "source": [
    "above_average_all = (y_train > df['median_house_value'].values.mean()).astype(int)\n",
    "score_all = mutual_info_score(above_average_all, df_train['ocean_proximity'])\n",
    "score_all == score"
   ]
  },
  {
   "cell_type": "code",
   "execution_count": 33,
   "id": "54665701",
   "metadata": {},
   "outputs": [
    {
     "data": {
      "text/plain": [
       "206855.81690891474"
      ]
     },
     "execution_count": 33,
     "metadata": {},
     "output_type": "execute_result"
    }
   ],
   "source": [
    "df['median_house_value'].values.mean()"
   ]
  },
  {
   "cell_type": "code",
   "execution_count": 34,
   "id": "896e92ad",
   "metadata": {},
   "outputs": [
    {
     "data": {
      "text/plain": [
       "206807.7419250646"
      ]
     },
     "execution_count": 34,
     "metadata": {},
     "output_type": "execute_result"
    }
   ],
   "source": [
    "y_train.mean()"
   ]
  },
  {
   "cell_type": "code",
   "execution_count": 35,
   "id": "f15278a3",
   "metadata": {},
   "outputs": [],
   "source": [
    "from sklearn.preprocessing import OneHotEncoder"
   ]
  },
  {
   "cell_type": "code",
   "execution_count": 36,
   "id": "9c7fade6",
   "metadata": {},
   "outputs": [],
   "source": [
    "ohe = OneHotEncoder(sparse=False, handle_unknown='ignore')"
   ]
  },
  {
   "cell_type": "code",
   "execution_count": 37,
   "id": "ec695b5a",
   "metadata": {},
   "outputs": [
    {
     "data": {
      "text/plain": [
       "array([[1., 0., 0., 0., 0.],\n",
       "       [0., 0., 0., 0., 1.],\n",
       "       [0., 1., 0., 0., 0.],\n",
       "       ...,\n",
       "       [1., 0., 0., 0., 0.],\n",
       "       [1., 0., 0., 0., 0.],\n",
       "       [1., 0., 0., 0., 0.]])"
      ]
     },
     "execution_count": 37,
     "metadata": {},
     "output_type": "execute_result"
    }
   ],
   "source": [
    "df_train_cat = ohe.fit_transform(df_train[['ocean_proximity']])\n",
    "df_train_cat"
   ]
  },
  {
   "cell_type": "code",
   "execution_count": 38,
   "id": "d5b6387f",
   "metadata": {},
   "outputs": [
    {
     "name": "stderr",
     "output_type": "stream",
     "text": [
      "C:\\Users\\Asus\\anaconda3\\envs\\ml-zoomcamp\\lib\\site-packages\\sklearn\\utils\\deprecation.py:87: FutureWarning: Function get_feature_names is deprecated; get_feature_names is deprecated in 1.0 and will be removed in 1.2. Please use get_feature_names_out instead.\n",
      "  warnings.warn(msg, category=FutureWarning)\n"
     ]
    },
    {
     "data": {
      "text/plain": [
       "array(['x0_<1H OCEAN', 'x0_INLAND', 'x0_ISLAND', 'x0_NEAR BAY',\n",
       "       'x0_NEAR OCEAN'], dtype=object)"
      ]
     },
     "execution_count": 38,
     "metadata": {},
     "output_type": "execute_result"
    }
   ],
   "source": [
    "ohe.get_feature_names()"
   ]
  },
  {
   "cell_type": "code",
   "execution_count": 39,
   "id": "ac71c97f",
   "metadata": {},
   "outputs": [
    {
     "data": {
      "text/html": [
       "<div>\n",
       "<style scoped>\n",
       "    .dataframe tbody tr th:only-of-type {\n",
       "        vertical-align: middle;\n",
       "    }\n",
       "\n",
       "    .dataframe tbody tr th {\n",
       "        vertical-align: top;\n",
       "    }\n",
       "\n",
       "    .dataframe thead th {\n",
       "        text-align: right;\n",
       "    }\n",
       "</style>\n",
       "<table border=\"1\" class=\"dataframe\">\n",
       "  <thead>\n",
       "    <tr style=\"text-align: right;\">\n",
       "      <th></th>\n",
       "      <th>0</th>\n",
       "      <th>1</th>\n",
       "      <th>2</th>\n",
       "      <th>3</th>\n",
       "      <th>4</th>\n",
       "      <th>5</th>\n",
       "      <th>6</th>\n",
       "      <th>7</th>\n",
       "      <th>8</th>\n",
       "      <th>9</th>\n",
       "      <th>...</th>\n",
       "      <th>12374</th>\n",
       "      <th>12375</th>\n",
       "      <th>12376</th>\n",
       "      <th>12377</th>\n",
       "      <th>12378</th>\n",
       "      <th>12379</th>\n",
       "      <th>12380</th>\n",
       "      <th>12381</th>\n",
       "      <th>12382</th>\n",
       "      <th>12383</th>\n",
       "    </tr>\n",
       "  </thead>\n",
       "  <tbody>\n",
       "    <tr>\n",
       "      <th>longitude</th>\n",
       "      <td>-119.670000</td>\n",
       "      <td>-118.320000</td>\n",
       "      <td>-121.620000</td>\n",
       "      <td>-118.630000</td>\n",
       "      <td>-122.300000</td>\n",
       "      <td>-118.110000</td>\n",
       "      <td>-118.370000</td>\n",
       "      <td>-118.390000</td>\n",
       "      <td>-118.540000</td>\n",
       "      <td>-119.230000</td>\n",
       "      <td>...</td>\n",
       "      <td>-118.360000</td>\n",
       "      <td>-118.440000</td>\n",
       "      <td>-121.270000</td>\n",
       "      <td>-118.130000</td>\n",
       "      <td>-118.490000</td>\n",
       "      <td>-118.290000</td>\n",
       "      <td>-121.340000</td>\n",
       "      <td>-116.990000</td>\n",
       "      <td>-117.870000</td>\n",
       "      <td>-118.320000</td>\n",
       "    </tr>\n",
       "    <tr>\n",
       "      <th>latitude</th>\n",
       "      <td>34.430000</td>\n",
       "      <td>33.740000</td>\n",
       "      <td>39.130000</td>\n",
       "      <td>34.240000</td>\n",
       "      <td>37.520000</td>\n",
       "      <td>33.730000</td>\n",
       "      <td>34.140000</td>\n",
       "      <td>34.060000</td>\n",
       "      <td>34.300000</td>\n",
       "      <td>36.390000</td>\n",
       "      <td>...</td>\n",
       "      <td>33.790000</td>\n",
       "      <td>34.030000</td>\n",
       "      <td>38.110000</td>\n",
       "      <td>34.020000</td>\n",
       "      <td>34.020000</td>\n",
       "      <td>33.790000</td>\n",
       "      <td>38.040000</td>\n",
       "      <td>32.740000</td>\n",
       "      <td>33.840000</td>\n",
       "      <td>33.910000</td>\n",
       "    </tr>\n",
       "    <tr>\n",
       "      <th>housing_median_age</th>\n",
       "      <td>39.000000</td>\n",
       "      <td>24.000000</td>\n",
       "      <td>41.000000</td>\n",
       "      <td>9.000000</td>\n",
       "      <td>38.000000</td>\n",
       "      <td>32.000000</td>\n",
       "      <td>21.000000</td>\n",
       "      <td>39.000000</td>\n",
       "      <td>22.000000</td>\n",
       "      <td>39.000000</td>\n",
       "      <td>...</td>\n",
       "      <td>34.000000</td>\n",
       "      <td>25.000000</td>\n",
       "      <td>11.000000</td>\n",
       "      <td>38.000000</td>\n",
       "      <td>29.000000</td>\n",
       "      <td>16.000000</td>\n",
       "      <td>16.000000</td>\n",
       "      <td>18.000000</td>\n",
       "      <td>16.000000</td>\n",
       "      <td>35.000000</td>\n",
       "    </tr>\n",
       "    <tr>\n",
       "      <th>total_rooms</th>\n",
       "      <td>1467.000000</td>\n",
       "      <td>6097.000000</td>\n",
       "      <td>1317.000000</td>\n",
       "      <td>4759.000000</td>\n",
       "      <td>2769.000000</td>\n",
       "      <td>1258.000000</td>\n",
       "      <td>4670.000000</td>\n",
       "      <td>3299.000000</td>\n",
       "      <td>4423.000000</td>\n",
       "      <td>1660.000000</td>\n",
       "      <td>...</td>\n",
       "      <td>5166.000000</td>\n",
       "      <td>2059.000000</td>\n",
       "      <td>3163.000000</td>\n",
       "      <td>1243.000000</td>\n",
       "      <td>2709.000000</td>\n",
       "      <td>1867.000000</td>\n",
       "      <td>3295.000000</td>\n",
       "      <td>3341.000000</td>\n",
       "      <td>1545.000000</td>\n",
       "      <td>940.000000</td>\n",
       "    </tr>\n",
       "    <tr>\n",
       "      <th>total_bedrooms</th>\n",
       "      <td>381.000000</td>\n",
       "      <td>794.000000</td>\n",
       "      <td>309.000000</td>\n",
       "      <td>924.000000</td>\n",
       "      <td>387.000000</td>\n",
       "      <td>333.000000</td>\n",
       "      <td>1161.000000</td>\n",
       "      <td>831.000000</td>\n",
       "      <td>622.000000</td>\n",
       "      <td>349.000000</td>\n",
       "      <td>...</td>\n",
       "      <td>704.000000</td>\n",
       "      <td>659.000000</td>\n",
       "      <td>794.000000</td>\n",
       "      <td>310.000000</td>\n",
       "      <td>799.000000</td>\n",
       "      <td>571.000000</td>\n",
       "      <td>565.000000</td>\n",
       "      <td>611.000000</td>\n",
       "      <td>354.000000</td>\n",
       "      <td>197.000000</td>\n",
       "    </tr>\n",
       "    <tr>\n",
       "      <th>population</th>\n",
       "      <td>1404.000000</td>\n",
       "      <td>2248.000000</td>\n",
       "      <td>856.000000</td>\n",
       "      <td>1884.000000</td>\n",
       "      <td>994.000000</td>\n",
       "      <td>645.000000</td>\n",
       "      <td>1914.000000</td>\n",
       "      <td>1649.000000</td>\n",
       "      <td>1995.000000</td>\n",
       "      <td>1061.000000</td>\n",
       "      <td>...</td>\n",
       "      <td>2071.000000</td>\n",
       "      <td>1349.000000</td>\n",
       "      <td>2106.000000</td>\n",
       "      <td>788.000000</td>\n",
       "      <td>1238.000000</td>\n",
       "      <td>951.000000</td>\n",
       "      <td>2279.000000</td>\n",
       "      <td>1952.000000</td>\n",
       "      <td>730.000000</td>\n",
       "      <td>640.000000</td>\n",
       "    </tr>\n",
       "    <tr>\n",
       "      <th>households</th>\n",
       "      <td>374.000000</td>\n",
       "      <td>806.000000</td>\n",
       "      <td>337.000000</td>\n",
       "      <td>915.000000</td>\n",
       "      <td>395.000000</td>\n",
       "      <td>334.000000</td>\n",
       "      <td>1094.000000</td>\n",
       "      <td>759.000000</td>\n",
       "      <td>582.000000</td>\n",
       "      <td>306.000000</td>\n",
       "      <td>...</td>\n",
       "      <td>668.000000</td>\n",
       "      <td>588.000000</td>\n",
       "      <td>762.000000</td>\n",
       "      <td>286.000000</td>\n",
       "      <td>793.000000</td>\n",
       "      <td>498.000000</td>\n",
       "      <td>576.000000</td>\n",
       "      <td>602.000000</td>\n",
       "      <td>350.000000</td>\n",
       "      <td>215.000000</td>\n",
       "    </tr>\n",
       "    <tr>\n",
       "      <th>median_income</th>\n",
       "      <td>2.368100</td>\n",
       "      <td>10.135700</td>\n",
       "      <td>1.671900</td>\n",
       "      <td>4.833300</td>\n",
       "      <td>5.590200</td>\n",
       "      <td>5.047600</td>\n",
       "      <td>3.798600</td>\n",
       "      <td>3.329500</td>\n",
       "      <td>8.215900</td>\n",
       "      <td>1.481200</td>\n",
       "      <td>...</td>\n",
       "      <td>8.360900</td>\n",
       "      <td>3.239600</td>\n",
       "      <td>2.448200</td>\n",
       "      <td>2.585200</td>\n",
       "      <td>3.156300</td>\n",
       "      <td>3.342700</td>\n",
       "      <td>3.608300</td>\n",
       "      <td>3.984400</td>\n",
       "      <td>4.511200</td>\n",
       "      <td>4.200000</td>\n",
       "    </tr>\n",
       "    <tr>\n",
       "      <th>rooms_per_household</th>\n",
       "      <td>3.922460</td>\n",
       "      <td>7.564516</td>\n",
       "      <td>3.908012</td>\n",
       "      <td>5.201093</td>\n",
       "      <td>7.010127</td>\n",
       "      <td>3.766467</td>\n",
       "      <td>4.268739</td>\n",
       "      <td>4.346509</td>\n",
       "      <td>7.599656</td>\n",
       "      <td>5.424837</td>\n",
       "      <td>...</td>\n",
       "      <td>7.733533</td>\n",
       "      <td>3.501701</td>\n",
       "      <td>4.150919</td>\n",
       "      <td>4.346154</td>\n",
       "      <td>3.416141</td>\n",
       "      <td>3.748996</td>\n",
       "      <td>5.720486</td>\n",
       "      <td>5.549834</td>\n",
       "      <td>4.414286</td>\n",
       "      <td>4.372093</td>\n",
       "    </tr>\n",
       "    <tr>\n",
       "      <th>bedrooms_per_room</th>\n",
       "      <td>0.259714</td>\n",
       "      <td>0.130228</td>\n",
       "      <td>0.234624</td>\n",
       "      <td>0.194158</td>\n",
       "      <td>0.139762</td>\n",
       "      <td>0.264706</td>\n",
       "      <td>0.248608</td>\n",
       "      <td>0.251895</td>\n",
       "      <td>0.140629</td>\n",
       "      <td>0.210241</td>\n",
       "      <td>...</td>\n",
       "      <td>0.136276</td>\n",
       "      <td>0.320058</td>\n",
       "      <td>0.251028</td>\n",
       "      <td>0.249397</td>\n",
       "      <td>0.294943</td>\n",
       "      <td>0.305838</td>\n",
       "      <td>0.171472</td>\n",
       "      <td>0.182879</td>\n",
       "      <td>0.229126</td>\n",
       "      <td>0.209574</td>\n",
       "    </tr>\n",
       "    <tr>\n",
       "      <th>population_per_household</th>\n",
       "      <td>3.754011</td>\n",
       "      <td>2.789082</td>\n",
       "      <td>2.540059</td>\n",
       "      <td>2.059016</td>\n",
       "      <td>2.516456</td>\n",
       "      <td>1.931138</td>\n",
       "      <td>1.749543</td>\n",
       "      <td>2.172596</td>\n",
       "      <td>3.427835</td>\n",
       "      <td>3.467320</td>\n",
       "      <td>...</td>\n",
       "      <td>3.100299</td>\n",
       "      <td>2.294218</td>\n",
       "      <td>2.763780</td>\n",
       "      <td>2.755245</td>\n",
       "      <td>1.561160</td>\n",
       "      <td>1.909639</td>\n",
       "      <td>3.956597</td>\n",
       "      <td>3.242525</td>\n",
       "      <td>2.085714</td>\n",
       "      <td>2.976744</td>\n",
       "    </tr>\n",
       "  </tbody>\n",
       "</table>\n",
       "<p>11 rows × 12384 columns</p>\n",
       "</div>"
      ],
      "text/plain": [
       "                                0            1            2            3      \\\n",
       "longitude                 -119.670000  -118.320000  -121.620000  -118.630000   \n",
       "latitude                    34.430000    33.740000    39.130000    34.240000   \n",
       "housing_median_age          39.000000    24.000000    41.000000     9.000000   \n",
       "total_rooms               1467.000000  6097.000000  1317.000000  4759.000000   \n",
       "total_bedrooms             381.000000   794.000000   309.000000   924.000000   \n",
       "population                1404.000000  2248.000000   856.000000  1884.000000   \n",
       "households                 374.000000   806.000000   337.000000   915.000000   \n",
       "median_income                2.368100    10.135700     1.671900     4.833300   \n",
       "rooms_per_household          3.922460     7.564516     3.908012     5.201093   \n",
       "bedrooms_per_room            0.259714     0.130228     0.234624     0.194158   \n",
       "population_per_household     3.754011     2.789082     2.540059     2.059016   \n",
       "\n",
       "                                4            5            6            7      \\\n",
       "longitude                 -122.300000  -118.110000  -118.370000  -118.390000   \n",
       "latitude                    37.520000    33.730000    34.140000    34.060000   \n",
       "housing_median_age          38.000000    32.000000    21.000000    39.000000   \n",
       "total_rooms               2769.000000  1258.000000  4670.000000  3299.000000   \n",
       "total_bedrooms             387.000000   333.000000  1161.000000   831.000000   \n",
       "population                 994.000000   645.000000  1914.000000  1649.000000   \n",
       "households                 395.000000   334.000000  1094.000000   759.000000   \n",
       "median_income                5.590200     5.047600     3.798600     3.329500   \n",
       "rooms_per_household          7.010127     3.766467     4.268739     4.346509   \n",
       "bedrooms_per_room            0.139762     0.264706     0.248608     0.251895   \n",
       "population_per_household     2.516456     1.931138     1.749543     2.172596   \n",
       "\n",
       "                                8            9      ...        12374  \\\n",
       "longitude                 -118.540000  -119.230000  ...  -118.360000   \n",
       "latitude                    34.300000    36.390000  ...    33.790000   \n",
       "housing_median_age          22.000000    39.000000  ...    34.000000   \n",
       "total_rooms               4423.000000  1660.000000  ...  5166.000000   \n",
       "total_bedrooms             622.000000   349.000000  ...   704.000000   \n",
       "population                1995.000000  1061.000000  ...  2071.000000   \n",
       "households                 582.000000   306.000000  ...   668.000000   \n",
       "median_income                8.215900     1.481200  ...     8.360900   \n",
       "rooms_per_household          7.599656     5.424837  ...     7.733533   \n",
       "bedrooms_per_room            0.140629     0.210241  ...     0.136276   \n",
       "population_per_household     3.427835     3.467320  ...     3.100299   \n",
       "\n",
       "                                12375        12376        12377        12378  \\\n",
       "longitude                 -118.440000  -121.270000  -118.130000  -118.490000   \n",
       "latitude                    34.030000    38.110000    34.020000    34.020000   \n",
       "housing_median_age          25.000000    11.000000    38.000000    29.000000   \n",
       "total_rooms               2059.000000  3163.000000  1243.000000  2709.000000   \n",
       "total_bedrooms             659.000000   794.000000   310.000000   799.000000   \n",
       "population                1349.000000  2106.000000   788.000000  1238.000000   \n",
       "households                 588.000000   762.000000   286.000000   793.000000   \n",
       "median_income                3.239600     2.448200     2.585200     3.156300   \n",
       "rooms_per_household          3.501701     4.150919     4.346154     3.416141   \n",
       "bedrooms_per_room            0.320058     0.251028     0.249397     0.294943   \n",
       "population_per_household     2.294218     2.763780     2.755245     1.561160   \n",
       "\n",
       "                                12379        12380        12381        12382  \\\n",
       "longitude                 -118.290000  -121.340000  -116.990000  -117.870000   \n",
       "latitude                    33.790000    38.040000    32.740000    33.840000   \n",
       "housing_median_age          16.000000    16.000000    18.000000    16.000000   \n",
       "total_rooms               1867.000000  3295.000000  3341.000000  1545.000000   \n",
       "total_bedrooms             571.000000   565.000000   611.000000   354.000000   \n",
       "population                 951.000000  2279.000000  1952.000000   730.000000   \n",
       "households                 498.000000   576.000000   602.000000   350.000000   \n",
       "median_income                3.342700     3.608300     3.984400     4.511200   \n",
       "rooms_per_household          3.748996     5.720486     5.549834     4.414286   \n",
       "bedrooms_per_room            0.305838     0.171472     0.182879     0.229126   \n",
       "population_per_household     1.909639     3.956597     3.242525     2.085714   \n",
       "\n",
       "                               12383  \n",
       "longitude                -118.320000  \n",
       "latitude                   33.910000  \n",
       "housing_median_age         35.000000  \n",
       "total_rooms               940.000000  \n",
       "total_bedrooms            197.000000  \n",
       "population                640.000000  \n",
       "households                215.000000  \n",
       "median_income               4.200000  \n",
       "rooms_per_household         4.372093  \n",
       "bedrooms_per_room           0.209574  \n",
       "population_per_household    2.976744  \n",
       "\n",
       "[11 rows x 12384 columns]"
      ]
     },
     "execution_count": 39,
     "metadata": {},
     "output_type": "execute_result"
    }
   ],
   "source": [
    "df_train_num = df_train.drop('ocean_proximity', axis = 1)\n",
    "df_train_num.T"
   ]
  },
  {
   "cell_type": "code",
   "execution_count": 40,
   "id": "c946d632",
   "metadata": {},
   "outputs": [],
   "source": [
    "x_train = np.column_stack([df_train_num, df_train_cat])"
   ]
  },
  {
   "cell_type": "code",
   "execution_count": 41,
   "id": "add8b4f5",
   "metadata": {
    "scrolled": true
   },
   "outputs": [
    {
     "data": {
      "text/html": [
       "<div>\n",
       "<style scoped>\n",
       "    .dataframe tbody tr th:only-of-type {\n",
       "        vertical-align: middle;\n",
       "    }\n",
       "\n",
       "    .dataframe tbody tr th {\n",
       "        vertical-align: top;\n",
       "    }\n",
       "\n",
       "    .dataframe thead th {\n",
       "        text-align: right;\n",
       "    }\n",
       "</style>\n",
       "<table border=\"1\" class=\"dataframe\">\n",
       "  <thead>\n",
       "    <tr style=\"text-align: right;\">\n",
       "      <th></th>\n",
       "      <th>0</th>\n",
       "      <th>1</th>\n",
       "      <th>2</th>\n",
       "      <th>3</th>\n",
       "      <th>4</th>\n",
       "      <th>5</th>\n",
       "      <th>6</th>\n",
       "      <th>7</th>\n",
       "      <th>8</th>\n",
       "      <th>9</th>\n",
       "      <th>...</th>\n",
       "      <th>12374</th>\n",
       "      <th>12375</th>\n",
       "      <th>12376</th>\n",
       "      <th>12377</th>\n",
       "      <th>12378</th>\n",
       "      <th>12379</th>\n",
       "      <th>12380</th>\n",
       "      <th>12381</th>\n",
       "      <th>12382</th>\n",
       "      <th>12383</th>\n",
       "    </tr>\n",
       "  </thead>\n",
       "  <tbody>\n",
       "    <tr>\n",
       "      <th>longitude</th>\n",
       "      <td>-119.67</td>\n",
       "      <td>-118.32</td>\n",
       "      <td>-121.62</td>\n",
       "      <td>-118.63</td>\n",
       "      <td>-122.3</td>\n",
       "      <td>-118.11</td>\n",
       "      <td>-118.37</td>\n",
       "      <td>-118.39</td>\n",
       "      <td>-118.54</td>\n",
       "      <td>-119.23</td>\n",
       "      <td>...</td>\n",
       "      <td>-118.36</td>\n",
       "      <td>-118.44</td>\n",
       "      <td>-121.27</td>\n",
       "      <td>-118.13</td>\n",
       "      <td>-118.49</td>\n",
       "      <td>-118.29</td>\n",
       "      <td>-121.34</td>\n",
       "      <td>-116.99</td>\n",
       "      <td>-117.87</td>\n",
       "      <td>-118.32</td>\n",
       "    </tr>\n",
       "    <tr>\n",
       "      <th>latitude</th>\n",
       "      <td>34.43</td>\n",
       "      <td>33.74</td>\n",
       "      <td>39.13</td>\n",
       "      <td>34.24</td>\n",
       "      <td>37.52</td>\n",
       "      <td>33.73</td>\n",
       "      <td>34.14</td>\n",
       "      <td>34.06</td>\n",
       "      <td>34.3</td>\n",
       "      <td>36.39</td>\n",
       "      <td>...</td>\n",
       "      <td>33.79</td>\n",
       "      <td>34.03</td>\n",
       "      <td>38.11</td>\n",
       "      <td>34.02</td>\n",
       "      <td>34.02</td>\n",
       "      <td>33.79</td>\n",
       "      <td>38.04</td>\n",
       "      <td>32.74</td>\n",
       "      <td>33.84</td>\n",
       "      <td>33.91</td>\n",
       "    </tr>\n",
       "    <tr>\n",
       "      <th>housing_median_age</th>\n",
       "      <td>39.0</td>\n",
       "      <td>24.0</td>\n",
       "      <td>41.0</td>\n",
       "      <td>9.0</td>\n",
       "      <td>38.0</td>\n",
       "      <td>32.0</td>\n",
       "      <td>21.0</td>\n",
       "      <td>39.0</td>\n",
       "      <td>22.0</td>\n",
       "      <td>39.0</td>\n",
       "      <td>...</td>\n",
       "      <td>34.0</td>\n",
       "      <td>25.0</td>\n",
       "      <td>11.0</td>\n",
       "      <td>38.0</td>\n",
       "      <td>29.0</td>\n",
       "      <td>16.0</td>\n",
       "      <td>16.0</td>\n",
       "      <td>18.0</td>\n",
       "      <td>16.0</td>\n",
       "      <td>35.0</td>\n",
       "    </tr>\n",
       "    <tr>\n",
       "      <th>total_rooms</th>\n",
       "      <td>1467.0</td>\n",
       "      <td>6097.0</td>\n",
       "      <td>1317.0</td>\n",
       "      <td>4759.0</td>\n",
       "      <td>2769.0</td>\n",
       "      <td>1258.0</td>\n",
       "      <td>4670.0</td>\n",
       "      <td>3299.0</td>\n",
       "      <td>4423.0</td>\n",
       "      <td>1660.0</td>\n",
       "      <td>...</td>\n",
       "      <td>5166.0</td>\n",
       "      <td>2059.0</td>\n",
       "      <td>3163.0</td>\n",
       "      <td>1243.0</td>\n",
       "      <td>2709.0</td>\n",
       "      <td>1867.0</td>\n",
       "      <td>3295.0</td>\n",
       "      <td>3341.0</td>\n",
       "      <td>1545.0</td>\n",
       "      <td>940.0</td>\n",
       "    </tr>\n",
       "    <tr>\n",
       "      <th>total_bedrooms</th>\n",
       "      <td>381.0</td>\n",
       "      <td>794.0</td>\n",
       "      <td>309.0</td>\n",
       "      <td>924.0</td>\n",
       "      <td>387.0</td>\n",
       "      <td>333.0</td>\n",
       "      <td>1161.0</td>\n",
       "      <td>831.0</td>\n",
       "      <td>622.0</td>\n",
       "      <td>349.0</td>\n",
       "      <td>...</td>\n",
       "      <td>704.0</td>\n",
       "      <td>659.0</td>\n",
       "      <td>794.0</td>\n",
       "      <td>310.0</td>\n",
       "      <td>799.0</td>\n",
       "      <td>571.0</td>\n",
       "      <td>565.0</td>\n",
       "      <td>611.0</td>\n",
       "      <td>354.0</td>\n",
       "      <td>197.0</td>\n",
       "    </tr>\n",
       "    <tr>\n",
       "      <th>population</th>\n",
       "      <td>1404.0</td>\n",
       "      <td>2248.0</td>\n",
       "      <td>856.0</td>\n",
       "      <td>1884.0</td>\n",
       "      <td>994.0</td>\n",
       "      <td>645.0</td>\n",
       "      <td>1914.0</td>\n",
       "      <td>1649.0</td>\n",
       "      <td>1995.0</td>\n",
       "      <td>1061.0</td>\n",
       "      <td>...</td>\n",
       "      <td>2071.0</td>\n",
       "      <td>1349.0</td>\n",
       "      <td>2106.0</td>\n",
       "      <td>788.0</td>\n",
       "      <td>1238.0</td>\n",
       "      <td>951.0</td>\n",
       "      <td>2279.0</td>\n",
       "      <td>1952.0</td>\n",
       "      <td>730.0</td>\n",
       "      <td>640.0</td>\n",
       "    </tr>\n",
       "    <tr>\n",
       "      <th>households</th>\n",
       "      <td>374.0</td>\n",
       "      <td>806.0</td>\n",
       "      <td>337.0</td>\n",
       "      <td>915.0</td>\n",
       "      <td>395.0</td>\n",
       "      <td>334.0</td>\n",
       "      <td>1094.0</td>\n",
       "      <td>759.0</td>\n",
       "      <td>582.0</td>\n",
       "      <td>306.0</td>\n",
       "      <td>...</td>\n",
       "      <td>668.0</td>\n",
       "      <td>588.0</td>\n",
       "      <td>762.0</td>\n",
       "      <td>286.0</td>\n",
       "      <td>793.0</td>\n",
       "      <td>498.0</td>\n",
       "      <td>576.0</td>\n",
       "      <td>602.0</td>\n",
       "      <td>350.0</td>\n",
       "      <td>215.0</td>\n",
       "    </tr>\n",
       "    <tr>\n",
       "      <th>median_income</th>\n",
       "      <td>2.3681</td>\n",
       "      <td>10.1357</td>\n",
       "      <td>1.6719</td>\n",
       "      <td>4.8333</td>\n",
       "      <td>5.5902</td>\n",
       "      <td>5.0476</td>\n",
       "      <td>3.7986</td>\n",
       "      <td>3.3295</td>\n",
       "      <td>8.2159</td>\n",
       "      <td>1.4812</td>\n",
       "      <td>...</td>\n",
       "      <td>8.3609</td>\n",
       "      <td>3.2396</td>\n",
       "      <td>2.4482</td>\n",
       "      <td>2.5852</td>\n",
       "      <td>3.1563</td>\n",
       "      <td>3.3427</td>\n",
       "      <td>3.6083</td>\n",
       "      <td>3.9844</td>\n",
       "      <td>4.5112</td>\n",
       "      <td>4.2</td>\n",
       "    </tr>\n",
       "    <tr>\n",
       "      <th>ocean_proximity</th>\n",
       "      <td>&lt;1H OCEAN</td>\n",
       "      <td>NEAR OCEAN</td>\n",
       "      <td>INLAND</td>\n",
       "      <td>&lt;1H OCEAN</td>\n",
       "      <td>NEAR OCEAN</td>\n",
       "      <td>NEAR OCEAN</td>\n",
       "      <td>&lt;1H OCEAN</td>\n",
       "      <td>&lt;1H OCEAN</td>\n",
       "      <td>&lt;1H OCEAN</td>\n",
       "      <td>INLAND</td>\n",
       "      <td>...</td>\n",
       "      <td>NEAR OCEAN</td>\n",
       "      <td>&lt;1H OCEAN</td>\n",
       "      <td>INLAND</td>\n",
       "      <td>&lt;1H OCEAN</td>\n",
       "      <td>&lt;1H OCEAN</td>\n",
       "      <td>&lt;1H OCEAN</td>\n",
       "      <td>INLAND</td>\n",
       "      <td>&lt;1H OCEAN</td>\n",
       "      <td>&lt;1H OCEAN</td>\n",
       "      <td>&lt;1H OCEAN</td>\n",
       "    </tr>\n",
       "    <tr>\n",
       "      <th>rooms_per_household</th>\n",
       "      <td>3.92246</td>\n",
       "      <td>7.564516</td>\n",
       "      <td>3.908012</td>\n",
       "      <td>5.201093</td>\n",
       "      <td>7.010127</td>\n",
       "      <td>3.766467</td>\n",
       "      <td>4.268739</td>\n",
       "      <td>4.346509</td>\n",
       "      <td>7.599656</td>\n",
       "      <td>5.424837</td>\n",
       "      <td>...</td>\n",
       "      <td>7.733533</td>\n",
       "      <td>3.501701</td>\n",
       "      <td>4.150919</td>\n",
       "      <td>4.346154</td>\n",
       "      <td>3.416141</td>\n",
       "      <td>3.748996</td>\n",
       "      <td>5.720486</td>\n",
       "      <td>5.549834</td>\n",
       "      <td>4.414286</td>\n",
       "      <td>4.372093</td>\n",
       "    </tr>\n",
       "    <tr>\n",
       "      <th>bedrooms_per_room</th>\n",
       "      <td>0.259714</td>\n",
       "      <td>0.130228</td>\n",
       "      <td>0.234624</td>\n",
       "      <td>0.194158</td>\n",
       "      <td>0.139762</td>\n",
       "      <td>0.264706</td>\n",
       "      <td>0.248608</td>\n",
       "      <td>0.251895</td>\n",
       "      <td>0.140629</td>\n",
       "      <td>0.210241</td>\n",
       "      <td>...</td>\n",
       "      <td>0.136276</td>\n",
       "      <td>0.320058</td>\n",
       "      <td>0.251028</td>\n",
       "      <td>0.249397</td>\n",
       "      <td>0.294943</td>\n",
       "      <td>0.305838</td>\n",
       "      <td>0.171472</td>\n",
       "      <td>0.182879</td>\n",
       "      <td>0.229126</td>\n",
       "      <td>0.209574</td>\n",
       "    </tr>\n",
       "    <tr>\n",
       "      <th>population_per_household</th>\n",
       "      <td>3.754011</td>\n",
       "      <td>2.789082</td>\n",
       "      <td>2.540059</td>\n",
       "      <td>2.059016</td>\n",
       "      <td>2.516456</td>\n",
       "      <td>1.931138</td>\n",
       "      <td>1.749543</td>\n",
       "      <td>2.172596</td>\n",
       "      <td>3.427835</td>\n",
       "      <td>3.46732</td>\n",
       "      <td>...</td>\n",
       "      <td>3.100299</td>\n",
       "      <td>2.294218</td>\n",
       "      <td>2.76378</td>\n",
       "      <td>2.755245</td>\n",
       "      <td>1.56116</td>\n",
       "      <td>1.909639</td>\n",
       "      <td>3.956597</td>\n",
       "      <td>3.242525</td>\n",
       "      <td>2.085714</td>\n",
       "      <td>2.976744</td>\n",
       "    </tr>\n",
       "  </tbody>\n",
       "</table>\n",
       "<p>12 rows × 12384 columns</p>\n",
       "</div>"
      ],
      "text/plain": [
       "                              0           1         2          3      \\\n",
       "longitude                   -119.67     -118.32   -121.62    -118.63   \n",
       "latitude                      34.43       33.74     39.13      34.24   \n",
       "housing_median_age             39.0        24.0      41.0        9.0   \n",
       "total_rooms                  1467.0      6097.0    1317.0     4759.0   \n",
       "total_bedrooms                381.0       794.0     309.0      924.0   \n",
       "population                   1404.0      2248.0     856.0     1884.0   \n",
       "households                    374.0       806.0     337.0      915.0   \n",
       "median_income                2.3681     10.1357    1.6719     4.8333   \n",
       "ocean_proximity           <1H OCEAN  NEAR OCEAN    INLAND  <1H OCEAN   \n",
       "rooms_per_household         3.92246    7.564516  3.908012   5.201093   \n",
       "bedrooms_per_room          0.259714    0.130228  0.234624   0.194158   \n",
       "population_per_household   3.754011    2.789082  2.540059   2.059016   \n",
       "\n",
       "                               4           5          6          7      \\\n",
       "longitude                     -122.3     -118.11    -118.37    -118.39   \n",
       "latitude                       37.52       33.73      34.14      34.06   \n",
       "housing_median_age              38.0        32.0       21.0       39.0   \n",
       "total_rooms                   2769.0      1258.0     4670.0     3299.0   \n",
       "total_bedrooms                 387.0       333.0     1161.0      831.0   \n",
       "population                     994.0       645.0     1914.0     1649.0   \n",
       "households                     395.0       334.0     1094.0      759.0   \n",
       "median_income                 5.5902      5.0476     3.7986     3.3295   \n",
       "ocean_proximity           NEAR OCEAN  NEAR OCEAN  <1H OCEAN  <1H OCEAN   \n",
       "rooms_per_household         7.010127    3.766467   4.268739   4.346509   \n",
       "bedrooms_per_room           0.139762    0.264706   0.248608   0.251895   \n",
       "population_per_household    2.516456    1.931138   1.749543   2.172596   \n",
       "\n",
       "                              8         9      ...       12374      12375  \\\n",
       "longitude                   -118.54   -119.23  ...     -118.36    -118.44   \n",
       "latitude                       34.3     36.39  ...       33.79      34.03   \n",
       "housing_median_age             22.0      39.0  ...        34.0       25.0   \n",
       "total_rooms                  4423.0    1660.0  ...      5166.0     2059.0   \n",
       "total_bedrooms                622.0     349.0  ...       704.0      659.0   \n",
       "population                   1995.0    1061.0  ...      2071.0     1349.0   \n",
       "households                    582.0     306.0  ...       668.0      588.0   \n",
       "median_income                8.2159    1.4812  ...      8.3609     3.2396   \n",
       "ocean_proximity           <1H OCEAN    INLAND  ...  NEAR OCEAN  <1H OCEAN   \n",
       "rooms_per_household        7.599656  5.424837  ...    7.733533   3.501701   \n",
       "bedrooms_per_room          0.140629  0.210241  ...    0.136276   0.320058   \n",
       "population_per_household   3.427835   3.46732  ...    3.100299   2.294218   \n",
       "\n",
       "                             12376      12377      12378      12379     12380  \\\n",
       "longitude                  -121.27    -118.13    -118.49    -118.29   -121.34   \n",
       "latitude                     38.11      34.02      34.02      33.79     38.04   \n",
       "housing_median_age            11.0       38.0       29.0       16.0      16.0   \n",
       "total_rooms                 3163.0     1243.0     2709.0     1867.0    3295.0   \n",
       "total_bedrooms               794.0      310.0      799.0      571.0     565.0   \n",
       "population                  2106.0      788.0     1238.0      951.0    2279.0   \n",
       "households                   762.0      286.0      793.0      498.0     576.0   \n",
       "median_income               2.4482     2.5852     3.1563     3.3427    3.6083   \n",
       "ocean_proximity             INLAND  <1H OCEAN  <1H OCEAN  <1H OCEAN    INLAND   \n",
       "rooms_per_household       4.150919   4.346154   3.416141   3.748996  5.720486   \n",
       "bedrooms_per_room         0.251028   0.249397   0.294943   0.305838  0.171472   \n",
       "population_per_household   2.76378   2.755245    1.56116   1.909639  3.956597   \n",
       "\n",
       "                              12381      12382      12383  \n",
       "longitude                   -116.99    -117.87    -118.32  \n",
       "latitude                      32.74      33.84      33.91  \n",
       "housing_median_age             18.0       16.0       35.0  \n",
       "total_rooms                  3341.0     1545.0      940.0  \n",
       "total_bedrooms                611.0      354.0      197.0  \n",
       "population                   1952.0      730.0      640.0  \n",
       "households                    602.0      350.0      215.0  \n",
       "median_income                3.9844     4.5112        4.2  \n",
       "ocean_proximity           <1H OCEAN  <1H OCEAN  <1H OCEAN  \n",
       "rooms_per_household        5.549834   4.414286   4.372093  \n",
       "bedrooms_per_room          0.182879   0.229126   0.209574  \n",
       "population_per_household   3.242525   2.085714   2.976744  \n",
       "\n",
       "[12 rows x 12384 columns]"
      ]
     },
     "execution_count": 41,
     "metadata": {},
     "output_type": "execute_result"
    }
   ],
   "source": [
    "df_train.T"
   ]
  },
  {
   "cell_type": "code",
   "execution_count": 42,
   "id": "a268811c",
   "metadata": {},
   "outputs": [
    {
     "data": {
      "text/plain": [
       "array([[-119.67,   34.43,   39.  , ...,    0.  ,    0.  ,    0.  ],\n",
       "       [-118.32,   33.74,   24.  , ...,    0.  ,    0.  ,    1.  ],\n",
       "       [-121.62,   39.13,   41.  , ...,    0.  ,    0.  ,    0.  ],\n",
       "       ...,\n",
       "       [-116.99,   32.74,   18.  , ...,    0.  ,    0.  ,    0.  ],\n",
       "       [-117.87,   33.84,   16.  , ...,    0.  ,    0.  ,    0.  ],\n",
       "       [-118.32,   33.91,   35.  , ...,    0.  ,    0.  ,    0.  ]])"
      ]
     },
     "execution_count": 42,
     "metadata": {},
     "output_type": "execute_result"
    }
   ],
   "source": [
    "x_train.round(3)"
   ]
  },
  {
   "cell_type": "code",
   "execution_count": 43,
   "id": "21b5e302",
   "metadata": {},
   "outputs": [
    {
     "data": {
      "text/plain": [
       "array([-1.19670000e+02,  3.44300000e+01,  3.90000000e+01,  1.46700000e+03,\n",
       "        3.81000000e+02,  1.40400000e+03,  3.74000000e+02,  2.36810000e+00,\n",
       "        3.92245989e+00,  2.59713701e-01,  3.75401070e+00,  1.00000000e+00,\n",
       "        0.00000000e+00,  0.00000000e+00,  0.00000000e+00,  0.00000000e+00])"
      ]
     },
     "execution_count": 43,
     "metadata": {},
     "output_type": "execute_result"
    }
   ],
   "source": [
    "x_train[0]"
   ]
  },
  {
   "cell_type": "code",
   "execution_count": 44,
   "id": "a6fa0086",
   "metadata": {},
   "outputs": [],
   "source": [
    "from sklearn.feature_extraction import DictVectorizer"
   ]
  },
  {
   "cell_type": "code",
   "execution_count": 45,
   "id": "11da5e0c",
   "metadata": {},
   "outputs": [],
   "source": [
    "dv = DictVectorizer(sparse=False)\n",
    "\n",
    "train_dict = df_train.to_dict(orient='records')\n",
    "X_train_vect = dv.fit_transform(train_dict)\n"
   ]
  },
  {
   "cell_type": "code",
   "execution_count": 46,
   "id": "1ec34df7",
   "metadata": {},
   "outputs": [
    {
     "name": "stderr",
     "output_type": "stream",
     "text": [
      "C:\\Users\\Asus\\anaconda3\\envs\\ml-zoomcamp\\lib\\site-packages\\sklearn\\utils\\deprecation.py:87: FutureWarning: Function get_feature_names is deprecated; get_feature_names is deprecated in 1.0 and will be removed in 1.2. Please use get_feature_names_out instead.\n",
      "  warnings.warn(msg, category=FutureWarning)\n"
     ]
    },
    {
     "data": {
      "text/plain": [
       "['bedrooms_per_room',\n",
       " 'households',\n",
       " 'housing_median_age',\n",
       " 'latitude',\n",
       " 'longitude',\n",
       " 'median_income',\n",
       " 'ocean_proximity=<1H OCEAN',\n",
       " 'ocean_proximity=INLAND',\n",
       " 'ocean_proximity=ISLAND',\n",
       " 'ocean_proximity=NEAR BAY',\n",
       " 'ocean_proximity=NEAR OCEAN',\n",
       " 'population',\n",
       " 'population_per_household',\n",
       " 'rooms_per_household',\n",
       " 'total_bedrooms',\n",
       " 'total_rooms']"
      ]
     },
     "execution_count": 46,
     "metadata": {},
     "output_type": "execute_result"
    }
   ],
   "source": [
    "dv.get_feature_names()"
   ]
  },
  {
   "cell_type": "code",
   "execution_count": 85,
   "id": "eb7071ae",
   "metadata": {},
   "outputs": [],
   "source": [
    "#train_dict"
   ]
  },
  {
   "cell_type": "code",
   "execution_count": 48,
   "id": "25697433",
   "metadata": {},
   "outputs": [
    {
     "data": {
      "text/plain": [
       "array([[2.600e-01, 3.740e+02, 3.900e+01, ..., 3.922e+00, 3.810e+02,\n",
       "        1.467e+03],\n",
       "       [1.300e-01, 8.060e+02, 2.400e+01, ..., 7.565e+00, 7.940e+02,\n",
       "        6.097e+03],\n",
       "       [2.350e-01, 3.370e+02, 4.100e+01, ..., 3.908e+00, 3.090e+02,\n",
       "        1.317e+03],\n",
       "       ...,\n",
       "       [1.830e-01, 6.020e+02, 1.800e+01, ..., 5.550e+00, 6.110e+02,\n",
       "        3.341e+03],\n",
       "       [2.290e-01, 3.500e+02, 1.600e+01, ..., 4.414e+00, 3.540e+02,\n",
       "        1.545e+03],\n",
       "       [2.100e-01, 2.150e+02, 3.500e+01, ..., 4.372e+00, 1.970e+02,\n",
       "        9.400e+02]])"
      ]
     },
     "execution_count": 48,
     "metadata": {},
     "output_type": "execute_result"
    }
   ],
   "source": [
    "X_train_vect.round(3)"
   ]
  },
  {
   "cell_type": "code",
   "execution_count": 49,
   "id": "cb1beeef",
   "metadata": {},
   "outputs": [
    {
     "data": {
      "text/plain": [
       "[0.25971370143149286,\n",
       " 374.0,\n",
       " 39.0,\n",
       " 34.43,\n",
       " -119.67,\n",
       " 2.3681,\n",
       " 1.0,\n",
       " 0.0,\n",
       " 0.0,\n",
       " 0.0,\n",
       " 0.0,\n",
       " 1404.0,\n",
       " 3.7540106951871657,\n",
       " 3.9224598930481283,\n",
       " 381.0,\n",
       " 1467.0]"
      ]
     },
     "execution_count": 49,
     "metadata": {},
     "output_type": "execute_result"
    }
   ],
   "source": [
    "list(X_train_vect[0])"
   ]
  },
  {
   "cell_type": "markdown",
   "id": "d2565b18",
   "metadata": {},
   "source": [
    "# LogisticRegression"
   ]
  },
  {
   "cell_type": "code",
   "execution_count": 50,
   "id": "907d1a1a",
   "metadata": {},
   "outputs": [],
   "source": [
    "from sklearn.linear_model import LogisticRegression\n",
    "from sklearn.metrics import accuracy_score"
   ]
  },
  {
   "cell_type": "code",
   "execution_count": 51,
   "id": "1140b880",
   "metadata": {},
   "outputs": [],
   "source": [
    "model = LogisticRegression(solver=\"liblinear\", C=1.0, max_iter=1000, random_state=42)"
   ]
  },
  {
   "cell_type": "code",
   "execution_count": 52,
   "id": "f758dabf",
   "metadata": {},
   "outputs": [
    {
     "data": {
      "text/plain": [
       "12384"
      ]
     },
     "execution_count": 52,
     "metadata": {},
     "output_type": "execute_result"
    }
   ],
   "source": [
    "len(above_average)"
   ]
  },
  {
   "cell_type": "code",
   "execution_count": 53,
   "id": "13e8fa65",
   "metadata": {},
   "outputs": [
    {
     "data": {
      "text/html": [
       "<style>#sk-container-id-1 {color: black;background-color: white;}#sk-container-id-1 pre{padding: 0;}#sk-container-id-1 div.sk-toggleable {background-color: white;}#sk-container-id-1 label.sk-toggleable__label {cursor: pointer;display: block;width: 100%;margin-bottom: 0;padding: 0.3em;box-sizing: border-box;text-align: center;}#sk-container-id-1 label.sk-toggleable__label-arrow:before {content: \"▸\";float: left;margin-right: 0.25em;color: #696969;}#sk-container-id-1 label.sk-toggleable__label-arrow:hover:before {color: black;}#sk-container-id-1 div.sk-estimator:hover label.sk-toggleable__label-arrow:before {color: black;}#sk-container-id-1 div.sk-toggleable__content {max-height: 0;max-width: 0;overflow: hidden;text-align: left;background-color: #f0f8ff;}#sk-container-id-1 div.sk-toggleable__content pre {margin: 0.2em;color: black;border-radius: 0.25em;background-color: #f0f8ff;}#sk-container-id-1 input.sk-toggleable__control:checked~div.sk-toggleable__content {max-height: 200px;max-width: 100%;overflow: auto;}#sk-container-id-1 input.sk-toggleable__control:checked~label.sk-toggleable__label-arrow:before {content: \"▾\";}#sk-container-id-1 div.sk-estimator input.sk-toggleable__control:checked~label.sk-toggleable__label {background-color: #d4ebff;}#sk-container-id-1 div.sk-label input.sk-toggleable__control:checked~label.sk-toggleable__label {background-color: #d4ebff;}#sk-container-id-1 input.sk-hidden--visually {border: 0;clip: rect(1px 1px 1px 1px);clip: rect(1px, 1px, 1px, 1px);height: 1px;margin: -1px;overflow: hidden;padding: 0;position: absolute;width: 1px;}#sk-container-id-1 div.sk-estimator {font-family: monospace;background-color: #f0f8ff;border: 1px dotted black;border-radius: 0.25em;box-sizing: border-box;margin-bottom: 0.5em;}#sk-container-id-1 div.sk-estimator:hover {background-color: #d4ebff;}#sk-container-id-1 div.sk-parallel-item::after {content: \"\";width: 100%;border-bottom: 1px solid gray;flex-grow: 1;}#sk-container-id-1 div.sk-label:hover label.sk-toggleable__label {background-color: #d4ebff;}#sk-container-id-1 div.sk-serial::before {content: \"\";position: absolute;border-left: 1px solid gray;box-sizing: border-box;top: 0;bottom: 0;left: 50%;z-index: 0;}#sk-container-id-1 div.sk-serial {display: flex;flex-direction: column;align-items: center;background-color: white;padding-right: 0.2em;padding-left: 0.2em;position: relative;}#sk-container-id-1 div.sk-item {position: relative;z-index: 1;}#sk-container-id-1 div.sk-parallel {display: flex;align-items: stretch;justify-content: center;background-color: white;position: relative;}#sk-container-id-1 div.sk-item::before, #sk-container-id-1 div.sk-parallel-item::before {content: \"\";position: absolute;border-left: 1px solid gray;box-sizing: border-box;top: 0;bottom: 0;left: 50%;z-index: -1;}#sk-container-id-1 div.sk-parallel-item {display: flex;flex-direction: column;z-index: 1;position: relative;background-color: white;}#sk-container-id-1 div.sk-parallel-item:first-child::after {align-self: flex-end;width: 50%;}#sk-container-id-1 div.sk-parallel-item:last-child::after {align-self: flex-start;width: 50%;}#sk-container-id-1 div.sk-parallel-item:only-child::after {width: 0;}#sk-container-id-1 div.sk-dashed-wrapped {border: 1px dashed gray;margin: 0 0.4em 0.5em 0.4em;box-sizing: border-box;padding-bottom: 0.4em;background-color: white;}#sk-container-id-1 div.sk-label label {font-family: monospace;font-weight: bold;display: inline-block;line-height: 1.2em;}#sk-container-id-1 div.sk-label-container {text-align: center;}#sk-container-id-1 div.sk-container {/* jupyter's `normalize.less` sets `[hidden] { display: none; }` but bootstrap.min.css set `[hidden] { display: none !important; }` so we also need the `!important` here to be able to override the default hidden behavior on the sphinx rendered scikit-learn.org. See: https://github.com/scikit-learn/scikit-learn/issues/21755 */display: inline-block !important;position: relative;}#sk-container-id-1 div.sk-text-repr-fallback {display: none;}</style><div id=\"sk-container-id-1\" class=\"sk-top-container\"><div class=\"sk-text-repr-fallback\"><pre>LogisticRegression(max_iter=1000, random_state=42, solver=&#x27;liblinear&#x27;)</pre><b>In a Jupyter environment, please rerun this cell to show the HTML representation or trust the notebook. <br />On GitHub, the HTML representation is unable to render, please try loading this page with nbviewer.org.</b></div><div class=\"sk-container\" hidden><div class=\"sk-item\"><div class=\"sk-estimator sk-toggleable\"><input class=\"sk-toggleable__control sk-hidden--visually\" id=\"sk-estimator-id-1\" type=\"checkbox\" checked><label for=\"sk-estimator-id-1\" class=\"sk-toggleable__label sk-toggleable__label-arrow\">LogisticRegression</label><div class=\"sk-toggleable__content\"><pre>LogisticRegression(max_iter=1000, random_state=42, solver=&#x27;liblinear&#x27;)</pre></div></div></div></div></div>"
      ],
      "text/plain": [
       "LogisticRegression(max_iter=1000, random_state=42, solver='liblinear')"
      ]
     },
     "execution_count": 53,
     "metadata": {},
     "output_type": "execute_result"
    }
   ],
   "source": [
    "model.fit(x_train, above_average)"
   ]
  },
  {
   "cell_type": "code",
   "execution_count": 54,
   "id": "76b1337f",
   "metadata": {},
   "outputs": [
    {
     "data": {
      "text/plain": [
       "-0.6049581344156287"
      ]
     },
     "execution_count": 54,
     "metadata": {},
     "output_type": "execute_result"
    }
   ],
   "source": [
    "model.intercept_[0]"
   ]
  },
  {
   "cell_type": "code",
   "execution_count": 55,
   "id": "b8d04cb9",
   "metadata": {
    "scrolled": true
   },
   "outputs": [
    {
     "data": {
      "text/plain": [
       "array([ 7.700e-02,  9.000e-02,  3.500e-02, -0.000e+00,  1.000e-03,\n",
       "       -2.000e-03,  4.000e-03,  1.226e+00,  2.000e-03,  1.873e+00,\n",
       "        1.100e-02,  2.320e-01, -1.866e+00,  1.990e-01,  2.430e-01,\n",
       "        5.870e-01])"
      ]
     },
     "execution_count": 55,
     "metadata": {},
     "output_type": "execute_result"
    }
   ],
   "source": [
    "model.coef_[0].round(3)"
   ]
  },
  {
   "cell_type": "code",
   "execution_count": 56,
   "id": "39027595",
   "metadata": {},
   "outputs": [],
   "source": [
    "df_val_cat = ohe.fit_transform(df_val[['ocean_proximity']])\n",
    "df_val_num = df_val.drop('ocean_proximity', axis = 1)\n",
    "x_val = np.column_stack([df_val_num, df_val_cat])"
   ]
  },
  {
   "cell_type": "code",
   "execution_count": 57,
   "id": "e42d73b0",
   "metadata": {},
   "outputs": [],
   "source": [
    "y_pred_val = model.predict_proba(x_val)[:, 1]"
   ]
  },
  {
   "cell_type": "code",
   "execution_count": 58,
   "id": "4db462ec",
   "metadata": {},
   "outputs": [
    {
     "data": {
      "text/plain": [
       "array([0.07633277, 0.15259881, 0.95056606, ..., 0.95916907, 0.84889934,\n",
       "       0.49259733])"
      ]
     },
     "execution_count": 58,
     "metadata": {},
     "output_type": "execute_result"
    }
   ],
   "source": [
    "y_pred_val"
   ]
  },
  {
   "cell_type": "code",
   "execution_count": 59,
   "id": "97d4a35d",
   "metadata": {},
   "outputs": [],
   "source": [
    "above_average_val = (y_val > y_val.mean()).astype(int)"
   ]
  },
  {
   "cell_type": "code",
   "execution_count": 60,
   "id": "2c856e33",
   "metadata": {},
   "outputs": [
    {
     "data": {
      "text/plain": [
       "0.8372093023255814"
      ]
     },
     "execution_count": 60,
     "metadata": {},
     "output_type": "execute_result"
    }
   ],
   "source": [
    "acc_full = accuracy_score(above_average_val, y_pred_val >= 0.5)\n",
    "acc_full"
   ]
  },
  {
   "cell_type": "code",
   "execution_count": 61,
   "id": "e66f4bac",
   "metadata": {},
   "outputs": [
    {
     "data": {
      "text/plain": [
       "0.84"
      ]
     },
     "execution_count": 61,
     "metadata": {},
     "output_type": "execute_result"
    }
   ],
   "source": [
    "acc_full.round(2)  #Question 4"
   ]
  },
  {
   "cell_type": "markdown",
   "id": "471dbec0",
   "metadata": {},
   "source": [
    "# feature elimination"
   ]
  },
  {
   "cell_type": "code",
   "execution_count": 62,
   "id": "d4582ee2",
   "metadata": {},
   "outputs": [
    {
     "data": {
      "text/plain": [
       "\"\\ndef prepare_feat(df, col):\\n    df_cat = ohe.fit_transform(df[['ocean_proximity']])\\n    df_num_full = df.drop('ocean_proximity', axis = 1)\\n    df_num =df_num_full.drop(col, axis = 1)\\n    x = np.column_stack([df_num, df_cat])\\n    return x\\n\""
      ]
     },
     "execution_count": 62,
     "metadata": {},
     "output_type": "execute_result"
    }
   ],
   "source": [
    "'''\n",
    "def prepare_feat(df, col):\n",
    "    df_cat = ohe.fit_transform(df[['ocean_proximity']])\n",
    "    df_num_full = df.drop('ocean_proximity', axis = 1)\n",
    "    df_num =df_num_full.drop(col, axis = 1)\n",
    "    x = np.column_stack([df_num, df_cat])\n",
    "    return x\n",
    "'''"
   ]
  },
  {
   "cell_type": "code",
   "execution_count": null,
   "id": "fab64cf2",
   "metadata": {},
   "outputs": [],
   "source": []
  },
  {
   "cell_type": "code",
   "execution_count": 63,
   "id": "30c05732",
   "metadata": {},
   "outputs": [],
   "source": [
    "def model_create_learn(X, y):\n",
    "    model = LogisticRegression(solver=\"liblinear\", C=1.0, max_iter=1000, random_state=42)\n",
    "    model.fit(X, y)\n",
    "    return model"
   ]
  },
  {
   "cell_type": "code",
   "execution_count": 64,
   "id": "d1b2cd8a",
   "metadata": {},
   "outputs": [],
   "source": [
    "def accuracy(y, y_pred):\n",
    "    #acc = accuracy_score(y, y_pred >= 0.5)\n",
    "    cho_pred = (y_pred >= 0.5)\n",
    "    acc = (cho_pred == y).mean()\n",
    "    return acc"
   ]
  },
  {
   "cell_type": "code",
   "execution_count": 65,
   "id": "8e8dbaaa",
   "metadata": {},
   "outputs": [],
   "source": [
    "def difference(acc, acc_full):\n",
    "    return acc_full - acc"
   ]
  },
  {
   "cell_type": "code",
   "execution_count": 452,
   "id": "a8d0ef45",
   "metadata": {},
   "outputs": [
    {
     "data": {
      "text/plain": [
       "\"\\nfor col in columns:\\n    print(f'Without {col}:')\\n    x_train = prepare_feat(df_train, col)\\n    model = model_create_learn(x_train, above_average)\\n    x_val = prepare_feat(df_val, col)\\n    y_pred_val = model.predict_proba(x_val)[:, 1]\\n    acc = accuracy(above_average_val, y_pred_val)\\n    diff = difference(acc, acc_full)\\n    print(f'accuracy: {acc}, difference: {diff}')\\n\""
      ]
     },
     "execution_count": 452,
     "metadata": {},
     "output_type": "execute_result"
    }
   ],
   "source": [
    "'''\n",
    "for col in columns:\n",
    "    print(f'Without {col}:')\n",
    "    x_train = prepare_feat(df_train, col)\n",
    "    model = model_create_learn(x_train, above_average)\n",
    "    x_val = prepare_feat(df_val, col)\n",
    "    y_pred_val = model.predict_proba(x_val)[:, 1]\n",
    "    acc = accuracy(above_average_val, y_pred_val)\n",
    "    diff = difference(acc, acc_full)\n",
    "    print(f'accuracy: {acc}, difference: {diff}')\n",
    "'''"
   ]
  },
  {
   "cell_type": "code",
   "execution_count": 66,
   "id": "1ef93473",
   "metadata": {},
   "outputs": [],
   "source": [
    "def prepare_data(df, col):\n",
    "    dv = DictVectorizer(sparse=False)\n",
    "    df_prep = df.drop(col, axis = 1)\n",
    "    df_dict = df_prep.to_dict(orient='records')\n",
    "    X = dv.fit_transform(df_dict)    \n",
    "    return X"
   ]
  },
  {
   "cell_type": "code",
   "execution_count": 67,
   "id": "a20ce971",
   "metadata": {},
   "outputs": [
    {
     "data": {
      "text/plain": [
       "['total_rooms', 'total_bedrooms', 'population', 'households']"
      ]
     },
     "execution_count": 67,
     "metadata": {},
     "output_type": "execute_result"
    }
   ],
   "source": [
    "columns = ['total_rooms',\n",
    "'total_bedrooms',\n",
    "'population',\n",
    "'households']\n",
    "columns"
   ]
  },
  {
   "cell_type": "code",
   "execution_count": 68,
   "id": "c55baa83",
   "metadata": {},
   "outputs": [],
   "source": [
    "def above_average(y):\n",
    "    return (y > df['median_house_value'].values.mean()).astype(int)"
   ]
  },
  {
   "cell_type": "code",
   "execution_count": 69,
   "id": "28dbb029",
   "metadata": {},
   "outputs": [
    {
     "data": {
      "text/plain": [
       "(208355.54917635658, 206807.7419250646, 206855.81690891474)"
      ]
     },
     "execution_count": 69,
     "metadata": {},
     "output_type": "execute_result"
    }
   ],
   "source": [
    "y_val.mean(), y_train.mean(), df['median_house_value'].values.mean()"
   ]
  },
  {
   "cell_type": "code",
   "execution_count": 70,
   "id": "b8e8c941",
   "metadata": {},
   "outputs": [
    {
     "name": "stdout",
     "output_type": "stream",
     "text": [
      "Without total_rooms:\n",
      "accuracy: 0.8362403100775194, difference: 0.0009689922480620172\n",
      "Without total_bedrooms:\n",
      "accuracy: 0.8386627906976745, difference: -0.0014534883720930258\n",
      "Without population:\n",
      "accuracy: 0.8263081395348837, difference: 0.01090116279069775\n",
      "Without households:\n",
      "accuracy: 0.8330910852713178, difference: 0.004118217054263629\n"
     ]
    }
   ],
   "source": [
    "for col in columns:\n",
    "    print(f'Without {col}:')\n",
    "    x_train = prepare_data(df_train, col)\n",
    "    model = model_create_learn(x_train, above_average(y_train))\n",
    "    x_val = prepare_data(df_val, col)\n",
    "    y_pred_val = model.predict_proba(x_val)[:, 1]\n",
    "    acc = accuracy(above_average(y_val), y_pred_val)\n",
    "    diff = difference(acc, acc_full)\n",
    "    print(f'accuracy: {acc}, difference: {diff}')"
   ]
  },
  {
   "cell_type": "code",
   "execution_count": 71,
   "id": "0465970e",
   "metadata": {},
   "outputs": [
    {
     "name": "stdout",
     "output_type": "stream",
     "text": [
      "Without total_rooms:\n",
      "accuracy: 0.8345445736434108, difference: 0.002664728682170603\n",
      "Without total_bedrooms:\n",
      "accuracy: 0.8350290697674418, difference: 0.0021802325581395943\n",
      "Without population:\n",
      "accuracy: 0.8204941860465116, difference: 0.016715116279069853\n",
      "Without households:\n",
      "accuracy: 0.8282461240310077, difference: 0.008963178294573715\n"
     ]
    }
   ],
   "source": [
    "for col in columns:\n",
    "    print(f'Without {col}:')\n",
    "    x_train = prepare_data(df_train, col)\n",
    "    model = model_create_learn(x_train, above_average(y_train))\n",
    "    x_test = prepare_data(df_test, col)\n",
    "    y_pred_test = model.predict_proba(x_test)[:, 1]\n",
    "    acc = accuracy(above_average(y_test), y_pred_test)\n",
    "    diff = difference(acc, acc_full)\n",
    "    print(f'accuracy: {acc}, difference: {diff}')"
   ]
  },
  {
   "cell_type": "markdown",
   "id": "84eb7f6e",
   "metadata": {},
   "source": [
    "# linear regression"
   ]
  },
  {
   "cell_type": "code",
   "execution_count": 75,
   "id": "bcee3007",
   "metadata": {},
   "outputs": [],
   "source": [
    "from sklearn.linear_model import Ridge\n",
    "from sklearn.metrics import mean_squared_error"
   ]
  },
  {
   "cell_type": "code",
   "execution_count": 76,
   "id": "0fb123ef",
   "metadata": {},
   "outputs": [],
   "source": [
    "y_train_lin = np.log1p(y_train)\n",
    "y_val_lin = np.log1p(y_val)\n",
    "y_test_lin = np.log1p(y_test)"
   ]
  },
  {
   "cell_type": "code",
   "execution_count": 77,
   "id": "31bad202",
   "metadata": {},
   "outputs": [],
   "source": [
    "model_line_regr = Ridge(alpha=0, solver=\"sag\", random_state=42)"
   ]
  },
  {
   "cell_type": "code",
   "execution_count": 78,
   "id": "453a6f9e",
   "metadata": {},
   "outputs": [
    {
     "data": {
      "text/html": [
       "<style>#sk-container-id-2 {color: black;background-color: white;}#sk-container-id-2 pre{padding: 0;}#sk-container-id-2 div.sk-toggleable {background-color: white;}#sk-container-id-2 label.sk-toggleable__label {cursor: pointer;display: block;width: 100%;margin-bottom: 0;padding: 0.3em;box-sizing: border-box;text-align: center;}#sk-container-id-2 label.sk-toggleable__label-arrow:before {content: \"▸\";float: left;margin-right: 0.25em;color: #696969;}#sk-container-id-2 label.sk-toggleable__label-arrow:hover:before {color: black;}#sk-container-id-2 div.sk-estimator:hover label.sk-toggleable__label-arrow:before {color: black;}#sk-container-id-2 div.sk-toggleable__content {max-height: 0;max-width: 0;overflow: hidden;text-align: left;background-color: #f0f8ff;}#sk-container-id-2 div.sk-toggleable__content pre {margin: 0.2em;color: black;border-radius: 0.25em;background-color: #f0f8ff;}#sk-container-id-2 input.sk-toggleable__control:checked~div.sk-toggleable__content {max-height: 200px;max-width: 100%;overflow: auto;}#sk-container-id-2 input.sk-toggleable__control:checked~label.sk-toggleable__label-arrow:before {content: \"▾\";}#sk-container-id-2 div.sk-estimator input.sk-toggleable__control:checked~label.sk-toggleable__label {background-color: #d4ebff;}#sk-container-id-2 div.sk-label input.sk-toggleable__control:checked~label.sk-toggleable__label {background-color: #d4ebff;}#sk-container-id-2 input.sk-hidden--visually {border: 0;clip: rect(1px 1px 1px 1px);clip: rect(1px, 1px, 1px, 1px);height: 1px;margin: -1px;overflow: hidden;padding: 0;position: absolute;width: 1px;}#sk-container-id-2 div.sk-estimator {font-family: monospace;background-color: #f0f8ff;border: 1px dotted black;border-radius: 0.25em;box-sizing: border-box;margin-bottom: 0.5em;}#sk-container-id-2 div.sk-estimator:hover {background-color: #d4ebff;}#sk-container-id-2 div.sk-parallel-item::after {content: \"\";width: 100%;border-bottom: 1px solid gray;flex-grow: 1;}#sk-container-id-2 div.sk-label:hover label.sk-toggleable__label {background-color: #d4ebff;}#sk-container-id-2 div.sk-serial::before {content: \"\";position: absolute;border-left: 1px solid gray;box-sizing: border-box;top: 0;bottom: 0;left: 50%;z-index: 0;}#sk-container-id-2 div.sk-serial {display: flex;flex-direction: column;align-items: center;background-color: white;padding-right: 0.2em;padding-left: 0.2em;position: relative;}#sk-container-id-2 div.sk-item {position: relative;z-index: 1;}#sk-container-id-2 div.sk-parallel {display: flex;align-items: stretch;justify-content: center;background-color: white;position: relative;}#sk-container-id-2 div.sk-item::before, #sk-container-id-2 div.sk-parallel-item::before {content: \"\";position: absolute;border-left: 1px solid gray;box-sizing: border-box;top: 0;bottom: 0;left: 50%;z-index: -1;}#sk-container-id-2 div.sk-parallel-item {display: flex;flex-direction: column;z-index: 1;position: relative;background-color: white;}#sk-container-id-2 div.sk-parallel-item:first-child::after {align-self: flex-end;width: 50%;}#sk-container-id-2 div.sk-parallel-item:last-child::after {align-self: flex-start;width: 50%;}#sk-container-id-2 div.sk-parallel-item:only-child::after {width: 0;}#sk-container-id-2 div.sk-dashed-wrapped {border: 1px dashed gray;margin: 0 0.4em 0.5em 0.4em;box-sizing: border-box;padding-bottom: 0.4em;background-color: white;}#sk-container-id-2 div.sk-label label {font-family: monospace;font-weight: bold;display: inline-block;line-height: 1.2em;}#sk-container-id-2 div.sk-label-container {text-align: center;}#sk-container-id-2 div.sk-container {/* jupyter's `normalize.less` sets `[hidden] { display: none; }` but bootstrap.min.css set `[hidden] { display: none !important; }` so we also need the `!important` here to be able to override the default hidden behavior on the sphinx rendered scikit-learn.org. See: https://github.com/scikit-learn/scikit-learn/issues/21755 */display: inline-block !important;position: relative;}#sk-container-id-2 div.sk-text-repr-fallback {display: none;}</style><div id=\"sk-container-id-2\" class=\"sk-top-container\"><div class=\"sk-text-repr-fallback\"><pre>Ridge(alpha=0, random_state=42, solver=&#x27;sag&#x27;)</pre><b>In a Jupyter environment, please rerun this cell to show the HTML representation or trust the notebook. <br />On GitHub, the HTML representation is unable to render, please try loading this page with nbviewer.org.</b></div><div class=\"sk-container\" hidden><div class=\"sk-item\"><div class=\"sk-estimator sk-toggleable\"><input class=\"sk-toggleable__control sk-hidden--visually\" id=\"sk-estimator-id-2\" type=\"checkbox\" checked><label for=\"sk-estimator-id-2\" class=\"sk-toggleable__label sk-toggleable__label-arrow\">Ridge</label><div class=\"sk-toggleable__content\"><pre>Ridge(alpha=0, random_state=42, solver=&#x27;sag&#x27;)</pre></div></div></div></div></div>"
      ],
      "text/plain": [
       "Ridge(alpha=0, random_state=42, solver='sag')"
      ]
     },
     "execution_count": 78,
     "metadata": {},
     "output_type": "execute_result"
    }
   ],
   "source": [
    "model_line_regr.fit(x_train, y_train_lin)"
   ]
  },
  {
   "cell_type": "code",
   "execution_count": 79,
   "id": "f3d0642b",
   "metadata": {},
   "outputs": [],
   "source": [
    "y_pred_line = model_line_regr.predict(x_val)"
   ]
  },
  {
   "cell_type": "code",
   "execution_count": 80,
   "id": "f341390c",
   "metadata": {},
   "outputs": [
    {
     "data": {
      "text/plain": [
       "array([12.05585613, 12.05932003, 12.5434291 , ..., 12.22731723,\n",
       "       12.21079735, 12.08183411])"
      ]
     },
     "execution_count": 80,
     "metadata": {},
     "output_type": "execute_result"
    }
   ],
   "source": [
    "y_pred_line"
   ]
  },
  {
   "cell_type": "code",
   "execution_count": 81,
   "id": "dcdf41ae",
   "metadata": {
    "scrolled": true
   },
   "outputs": [
    {
     "data": {
      "text/plain": [
       "57138147985.516"
      ]
     },
     "execution_count": 81,
     "metadata": {},
     "output_type": "execute_result"
    }
   ],
   "source": [
    "acc = mean_squared_error(y_val, y_pred_line)\n",
    "acc.round(3)"
   ]
  },
  {
   "cell_type": "code",
   "execution_count": 82,
   "id": "2e976843",
   "metadata": {},
   "outputs": [],
   "source": [
    "alpha = [0, 0.01, 0.1, 1, 10]"
   ]
  },
  {
   "cell_type": "code",
   "execution_count": 83,
   "id": "844fe12a",
   "metadata": {},
   "outputs": [
    {
     "name": "stdout",
     "output_type": "stream",
     "text": [
      "alpha = 0, rmse = 57138147985.516\n",
      "alpha = 0.01, rmse = 57138147985.516\n",
      "alpha = 0.1, rmse = 57138147985.516\n",
      "alpha = 1, rmse = 57138147985.518\n",
      "alpha = 10, rmse = 57138147985.533\n"
     ]
    }
   ],
   "source": [
    "for a in alpha:\n",
    "    model_line_regr = Ridge(alpha=a, solver=\"sag\", random_state=42)\n",
    "    model_line_regr.fit(x_train, y_train_lin)\n",
    "    y_pred_line = model_line_regr.predict(x_val)\n",
    "    rmse = mean_squared_error(y_val, y_pred_line)\n",
    "    print(f'alpha = {a}, rmse = {rmse.round(3)}')"
   ]
  },
  {
   "cell_type": "code",
   "execution_count": 84,
   "id": "bec07f8c",
   "metadata": {},
   "outputs": [],
   "source": [
    "# Question 6 a=0"
   ]
  }
 ],
 "metadata": {
  "kernelspec": {
   "display_name": "Python 3 (ipykernel)",
   "language": "python",
   "name": "python3"
  },
  "language_info": {
   "codemirror_mode": {
    "name": "ipython",
    "version": 3
   },
   "file_extension": ".py",
   "mimetype": "text/x-python",
   "name": "python",
   "nbconvert_exporter": "python",
   "pygments_lexer": "ipython3",
   "version": "3.9.13"
  }
 },
 "nbformat": 4,
 "nbformat_minor": 5
}
