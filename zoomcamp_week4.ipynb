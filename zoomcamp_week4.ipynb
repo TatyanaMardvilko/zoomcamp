{
 "cells": [
  {
   "cell_type": "code",
   "execution_count": 137,
   "id": "d3bc578c",
   "metadata": {},
   "outputs": [],
   "source": [
    "import pandas as pd\n",
    "import numpy as np\n",
    "import matplotlib as mlp\n",
    "from matplotlib import pyplot as plt"
   ]
  },
  {
   "cell_type": "code",
   "execution_count": 16,
   "id": "41495d32",
   "metadata": {},
   "outputs": [],
   "source": [
    "df = pd.read_csv('d:\\maschineLearning\\zoomcamp\\week4\\AER_credit_card_data.csv')"
   ]
  },
  {
   "cell_type": "code",
   "execution_count": 17,
   "id": "aae21c49",
   "metadata": {},
   "outputs": [
    {
     "data": {
      "text/html": [
       "<div>\n",
       "<style scoped>\n",
       "    .dataframe tbody tr th:only-of-type {\n",
       "        vertical-align: middle;\n",
       "    }\n",
       "\n",
       "    .dataframe tbody tr th {\n",
       "        vertical-align: top;\n",
       "    }\n",
       "\n",
       "    .dataframe thead th {\n",
       "        text-align: right;\n",
       "    }\n",
       "</style>\n",
       "<table border=\"1\" class=\"dataframe\">\n",
       "  <thead>\n",
       "    <tr style=\"text-align: right;\">\n",
       "      <th></th>\n",
       "      <th>card</th>\n",
       "      <th>reports</th>\n",
       "      <th>age</th>\n",
       "      <th>income</th>\n",
       "      <th>share</th>\n",
       "      <th>expenditure</th>\n",
       "      <th>owner</th>\n",
       "      <th>selfemp</th>\n",
       "      <th>dependents</th>\n",
       "      <th>months</th>\n",
       "      <th>majorcards</th>\n",
       "      <th>active</th>\n",
       "    </tr>\n",
       "  </thead>\n",
       "  <tbody>\n",
       "    <tr>\n",
       "      <th>0</th>\n",
       "      <td>yes</td>\n",
       "      <td>0</td>\n",
       "      <td>37.66667</td>\n",
       "      <td>4.5200</td>\n",
       "      <td>0.033270</td>\n",
       "      <td>124.983300</td>\n",
       "      <td>yes</td>\n",
       "      <td>no</td>\n",
       "      <td>3</td>\n",
       "      <td>54</td>\n",
       "      <td>1</td>\n",
       "      <td>12</td>\n",
       "    </tr>\n",
       "    <tr>\n",
       "      <th>1</th>\n",
       "      <td>yes</td>\n",
       "      <td>0</td>\n",
       "      <td>33.25000</td>\n",
       "      <td>2.4200</td>\n",
       "      <td>0.005217</td>\n",
       "      <td>9.854167</td>\n",
       "      <td>no</td>\n",
       "      <td>no</td>\n",
       "      <td>3</td>\n",
       "      <td>34</td>\n",
       "      <td>1</td>\n",
       "      <td>13</td>\n",
       "    </tr>\n",
       "    <tr>\n",
       "      <th>2</th>\n",
       "      <td>yes</td>\n",
       "      <td>0</td>\n",
       "      <td>33.66667</td>\n",
       "      <td>4.5000</td>\n",
       "      <td>0.004156</td>\n",
       "      <td>15.000000</td>\n",
       "      <td>yes</td>\n",
       "      <td>no</td>\n",
       "      <td>4</td>\n",
       "      <td>58</td>\n",
       "      <td>1</td>\n",
       "      <td>5</td>\n",
       "    </tr>\n",
       "    <tr>\n",
       "      <th>3</th>\n",
       "      <td>yes</td>\n",
       "      <td>0</td>\n",
       "      <td>30.50000</td>\n",
       "      <td>2.5400</td>\n",
       "      <td>0.065214</td>\n",
       "      <td>137.869200</td>\n",
       "      <td>no</td>\n",
       "      <td>no</td>\n",
       "      <td>0</td>\n",
       "      <td>25</td>\n",
       "      <td>1</td>\n",
       "      <td>7</td>\n",
       "    </tr>\n",
       "    <tr>\n",
       "      <th>4</th>\n",
       "      <td>yes</td>\n",
       "      <td>0</td>\n",
       "      <td>32.16667</td>\n",
       "      <td>9.7867</td>\n",
       "      <td>0.067051</td>\n",
       "      <td>546.503300</td>\n",
       "      <td>yes</td>\n",
       "      <td>no</td>\n",
       "      <td>2</td>\n",
       "      <td>64</td>\n",
       "      <td>1</td>\n",
       "      <td>5</td>\n",
       "    </tr>\n",
       "  </tbody>\n",
       "</table>\n",
       "</div>"
      ],
      "text/plain": [
       "  card  reports       age  income     share  expenditure owner selfemp  \\\n",
       "0  yes        0  37.66667  4.5200  0.033270   124.983300   yes      no   \n",
       "1  yes        0  33.25000  2.4200  0.005217     9.854167    no      no   \n",
       "2  yes        0  33.66667  4.5000  0.004156    15.000000   yes      no   \n",
       "3  yes        0  30.50000  2.5400  0.065214   137.869200    no      no   \n",
       "4  yes        0  32.16667  9.7867  0.067051   546.503300   yes      no   \n",
       "\n",
       "   dependents  months  majorcards  active  \n",
       "0           3      54           1      12  \n",
       "1           3      34           1      13  \n",
       "2           4      58           1       5  \n",
       "3           0      25           1       7  \n",
       "4           2      64           1       5  "
      ]
     },
     "execution_count": 17,
     "metadata": {},
     "output_type": "execute_result"
    }
   ],
   "source": [
    "df.head()"
   ]
  },
  {
   "cell_type": "code",
   "execution_count": 20,
   "id": "7a80e2c5",
   "metadata": {},
   "outputs": [
    {
     "data": {
      "text/plain": [
       "array(['yes', 'no'], dtype=object)"
      ]
     },
     "execution_count": 20,
     "metadata": {},
     "output_type": "execute_result"
    }
   ],
   "source": [
    "df.card.unique()"
   ]
  },
  {
   "cell_type": "code",
   "execution_count": 6,
   "id": "cce97b99",
   "metadata": {},
   "outputs": [
    {
     "data": {
      "text/plain": [
       "card            object\n",
       "reports          int64\n",
       "age            float64\n",
       "income         float64\n",
       "share          float64\n",
       "expenditure    float64\n",
       "owner           object\n",
       "selfemp         object\n",
       "dependents       int64\n",
       "months           int64\n",
       "majorcards       int64\n",
       "active           int64\n",
       "dtype: object"
      ]
     },
     "execution_count": 6,
     "metadata": {},
     "output_type": "execute_result"
    }
   ],
   "source": [
    "df.dtypes"
   ]
  },
  {
   "cell_type": "code",
   "execution_count": 8,
   "id": "103e161c",
   "metadata": {},
   "outputs": [
    {
     "data": {
      "text/plain": [
       "(1319, 12)"
      ]
     },
     "execution_count": 8,
     "metadata": {},
     "output_type": "execute_result"
    }
   ],
   "source": [
    "df.shape"
   ]
  },
  {
   "cell_type": "code",
   "execution_count": null,
   "id": "2811c9f4",
   "metadata": {},
   "outputs": [],
   "source": [
    "df.churn = (df.churn == 'yes').astype(int)"
   ]
  },
  {
   "cell_type": "code",
   "execution_count": 21,
   "id": "67039269",
   "metadata": {},
   "outputs": [
    {
     "data": {
      "text/html": [
       "<div>\n",
       "<style scoped>\n",
       "    .dataframe tbody tr th:only-of-type {\n",
       "        vertical-align: middle;\n",
       "    }\n",
       "\n",
       "    .dataframe tbody tr th {\n",
       "        vertical-align: top;\n",
       "    }\n",
       "\n",
       "    .dataframe thead th {\n",
       "        text-align: right;\n",
       "    }\n",
       "</style>\n",
       "<table border=\"1\" class=\"dataframe\">\n",
       "  <thead>\n",
       "    <tr style=\"text-align: right;\">\n",
       "      <th></th>\n",
       "      <th>card</th>\n",
       "      <th>reports</th>\n",
       "      <th>age</th>\n",
       "      <th>income</th>\n",
       "      <th>share</th>\n",
       "      <th>expenditure</th>\n",
       "      <th>owner</th>\n",
       "      <th>selfemp</th>\n",
       "      <th>dependents</th>\n",
       "      <th>months</th>\n",
       "      <th>majorcards</th>\n",
       "      <th>active</th>\n",
       "    </tr>\n",
       "  </thead>\n",
       "  <tbody>\n",
       "    <tr>\n",
       "      <th>0</th>\n",
       "      <td>1</td>\n",
       "      <td>0</td>\n",
       "      <td>37.66667</td>\n",
       "      <td>4.5200</td>\n",
       "      <td>0.033270</td>\n",
       "      <td>124.983300</td>\n",
       "      <td>yes</td>\n",
       "      <td>no</td>\n",
       "      <td>3</td>\n",
       "      <td>54</td>\n",
       "      <td>1</td>\n",
       "      <td>12</td>\n",
       "    </tr>\n",
       "    <tr>\n",
       "      <th>1</th>\n",
       "      <td>1</td>\n",
       "      <td>0</td>\n",
       "      <td>33.25000</td>\n",
       "      <td>2.4200</td>\n",
       "      <td>0.005217</td>\n",
       "      <td>9.854167</td>\n",
       "      <td>no</td>\n",
       "      <td>no</td>\n",
       "      <td>3</td>\n",
       "      <td>34</td>\n",
       "      <td>1</td>\n",
       "      <td>13</td>\n",
       "    </tr>\n",
       "    <tr>\n",
       "      <th>2</th>\n",
       "      <td>1</td>\n",
       "      <td>0</td>\n",
       "      <td>33.66667</td>\n",
       "      <td>4.5000</td>\n",
       "      <td>0.004156</td>\n",
       "      <td>15.000000</td>\n",
       "      <td>yes</td>\n",
       "      <td>no</td>\n",
       "      <td>4</td>\n",
       "      <td>58</td>\n",
       "      <td>1</td>\n",
       "      <td>5</td>\n",
       "    </tr>\n",
       "    <tr>\n",
       "      <th>3</th>\n",
       "      <td>1</td>\n",
       "      <td>0</td>\n",
       "      <td>30.50000</td>\n",
       "      <td>2.5400</td>\n",
       "      <td>0.065214</td>\n",
       "      <td>137.869200</td>\n",
       "      <td>no</td>\n",
       "      <td>no</td>\n",
       "      <td>0</td>\n",
       "      <td>25</td>\n",
       "      <td>1</td>\n",
       "      <td>7</td>\n",
       "    </tr>\n",
       "    <tr>\n",
       "      <th>4</th>\n",
       "      <td>1</td>\n",
       "      <td>0</td>\n",
       "      <td>32.16667</td>\n",
       "      <td>9.7867</td>\n",
       "      <td>0.067051</td>\n",
       "      <td>546.503300</td>\n",
       "      <td>yes</td>\n",
       "      <td>no</td>\n",
       "      <td>2</td>\n",
       "      <td>64</td>\n",
       "      <td>1</td>\n",
       "      <td>5</td>\n",
       "    </tr>\n",
       "    <tr>\n",
       "      <th>...</th>\n",
       "      <td>...</td>\n",
       "      <td>...</td>\n",
       "      <td>...</td>\n",
       "      <td>...</td>\n",
       "      <td>...</td>\n",
       "      <td>...</td>\n",
       "      <td>...</td>\n",
       "      <td>...</td>\n",
       "      <td>...</td>\n",
       "      <td>...</td>\n",
       "      <td>...</td>\n",
       "      <td>...</td>\n",
       "    </tr>\n",
       "    <tr>\n",
       "      <th>1314</th>\n",
       "      <td>1</td>\n",
       "      <td>0</td>\n",
       "      <td>33.58333</td>\n",
       "      <td>4.5660</td>\n",
       "      <td>0.002146</td>\n",
       "      <td>7.333333</td>\n",
       "      <td>yes</td>\n",
       "      <td>no</td>\n",
       "      <td>0</td>\n",
       "      <td>94</td>\n",
       "      <td>1</td>\n",
       "      <td>19</td>\n",
       "    </tr>\n",
       "    <tr>\n",
       "      <th>1315</th>\n",
       "      <td>0</td>\n",
       "      <td>5</td>\n",
       "      <td>23.91667</td>\n",
       "      <td>3.1920</td>\n",
       "      <td>0.000376</td>\n",
       "      <td>0.000000</td>\n",
       "      <td>no</td>\n",
       "      <td>no</td>\n",
       "      <td>3</td>\n",
       "      <td>12</td>\n",
       "      <td>1</td>\n",
       "      <td>5</td>\n",
       "    </tr>\n",
       "    <tr>\n",
       "      <th>1316</th>\n",
       "      <td>1</td>\n",
       "      <td>0</td>\n",
       "      <td>40.58333</td>\n",
       "      <td>4.6000</td>\n",
       "      <td>0.026513</td>\n",
       "      <td>101.298300</td>\n",
       "      <td>yes</td>\n",
       "      <td>no</td>\n",
       "      <td>2</td>\n",
       "      <td>1</td>\n",
       "      <td>1</td>\n",
       "      <td>2</td>\n",
       "    </tr>\n",
       "    <tr>\n",
       "      <th>1317</th>\n",
       "      <td>1</td>\n",
       "      <td>0</td>\n",
       "      <td>32.83333</td>\n",
       "      <td>3.7000</td>\n",
       "      <td>0.008999</td>\n",
       "      <td>26.996670</td>\n",
       "      <td>no</td>\n",
       "      <td>yes</td>\n",
       "      <td>0</td>\n",
       "      <td>60</td>\n",
       "      <td>1</td>\n",
       "      <td>7</td>\n",
       "    </tr>\n",
       "    <tr>\n",
       "      <th>1318</th>\n",
       "      <td>1</td>\n",
       "      <td>0</td>\n",
       "      <td>48.25000</td>\n",
       "      <td>3.7000</td>\n",
       "      <td>0.111619</td>\n",
       "      <td>344.157500</td>\n",
       "      <td>yes</td>\n",
       "      <td>no</td>\n",
       "      <td>2</td>\n",
       "      <td>2</td>\n",
       "      <td>1</td>\n",
       "      <td>0</td>\n",
       "    </tr>\n",
       "  </tbody>\n",
       "</table>\n",
       "<p>1319 rows × 12 columns</p>\n",
       "</div>"
      ],
      "text/plain": [
       "      card  reports       age  income     share  expenditure owner selfemp  \\\n",
       "0        1        0  37.66667  4.5200  0.033270   124.983300   yes      no   \n",
       "1        1        0  33.25000  2.4200  0.005217     9.854167    no      no   \n",
       "2        1        0  33.66667  4.5000  0.004156    15.000000   yes      no   \n",
       "3        1        0  30.50000  2.5400  0.065214   137.869200    no      no   \n",
       "4        1        0  32.16667  9.7867  0.067051   546.503300   yes      no   \n",
       "...    ...      ...       ...     ...       ...          ...   ...     ...   \n",
       "1314     1        0  33.58333  4.5660  0.002146     7.333333   yes      no   \n",
       "1315     0        5  23.91667  3.1920  0.000376     0.000000    no      no   \n",
       "1316     1        0  40.58333  4.6000  0.026513   101.298300   yes      no   \n",
       "1317     1        0  32.83333  3.7000  0.008999    26.996670    no     yes   \n",
       "1318     1        0  48.25000  3.7000  0.111619   344.157500   yes      no   \n",
       "\n",
       "      dependents  months  majorcards  active  \n",
       "0              3      54           1      12  \n",
       "1              3      34           1      13  \n",
       "2              4      58           1       5  \n",
       "3              0      25           1       7  \n",
       "4              2      64           1       5  \n",
       "...          ...     ...         ...     ...  \n",
       "1314           0      94           1      19  \n",
       "1315           3      12           1       5  \n",
       "1316           2       1           1       2  \n",
       "1317           0      60           1       7  \n",
       "1318           2       2           1       0  \n",
       "\n",
       "[1319 rows x 12 columns]"
      ]
     },
     "execution_count": 21,
     "metadata": {},
     "output_type": "execute_result"
    }
   ],
   "source": [
    "df.card = (df.card == 'yes').astype(int)\n",
    "df"
   ]
  },
  {
   "cell_type": "code",
   "execution_count": 24,
   "id": "2d569092",
   "metadata": {},
   "outputs": [
    {
     "data": {
      "text/plain": [
       "array([1, 0])"
      ]
     },
     "execution_count": 24,
     "metadata": {},
     "output_type": "execute_result"
    }
   ],
   "source": [
    "df.card.unique()"
   ]
  },
  {
   "cell_type": "code",
   "execution_count": 26,
   "id": "89876737",
   "metadata": {},
   "outputs": [
    {
     "data": {
      "text/plain": [
       "1    1023\n",
       "0     296\n",
       "Name: card, dtype: int64"
      ]
     },
     "execution_count": 26,
     "metadata": {},
     "output_type": "execute_result"
    }
   ],
   "source": [
    "df.card.value_counts()"
   ]
  },
  {
   "cell_type": "code",
   "execution_count": 27,
   "id": "40a839ed",
   "metadata": {},
   "outputs": [],
   "source": [
    "from sklearn.model_selection import train_test_split"
   ]
  },
  {
   "cell_type": "code",
   "execution_count": 30,
   "id": "fa152028",
   "metadata": {},
   "outputs": [
    {
     "data": {
      "text/plain": [
       "(791, 264, 264)"
      ]
     },
     "execution_count": 30,
     "metadata": {},
     "output_type": "execute_result"
    }
   ],
   "source": [
    "df_full_train, df_test = train_test_split(df, test_size = 0.2, random_state = 1)\n",
    "df_train, df_val = train_test_split(df_full_train, test_size = 0.25, random_state = 1)\n",
    "len(df_train), len(df_val), len(df_test)"
   ]
  },
  {
   "cell_type": "code",
   "execution_count": 54,
   "id": "bc167ca6",
   "metadata": {},
   "outputs": [],
   "source": [
    "df_train = df_train.reset_index(drop=True)\n",
    "df_val = df_val.reset_index(drop=True)\n",
    "df_test = df_test.reset_index(drop=True)\n",
    "\n",
    "y_train = df_train.card.values\n",
    "y_val = df_val.card.values\n",
    "y_test = df_test.card.values\n",
    "\n",
    "del df_train['card']\n",
    "del df_val['card']\n",
    "del df_test['card']"
   ]
  },
  {
   "cell_type": "code",
   "execution_count": 55,
   "id": "6c34165e",
   "metadata": {},
   "outputs": [
    {
     "data": {
      "text/html": [
       "<div>\n",
       "<style scoped>\n",
       "    .dataframe tbody tr th:only-of-type {\n",
       "        vertical-align: middle;\n",
       "    }\n",
       "\n",
       "    .dataframe tbody tr th {\n",
       "        vertical-align: top;\n",
       "    }\n",
       "\n",
       "    .dataframe thead th {\n",
       "        text-align: right;\n",
       "    }\n",
       "</style>\n",
       "<table border=\"1\" class=\"dataframe\">\n",
       "  <thead>\n",
       "    <tr style=\"text-align: right;\">\n",
       "      <th></th>\n",
       "      <th>reports</th>\n",
       "      <th>age</th>\n",
       "      <th>income</th>\n",
       "      <th>share</th>\n",
       "      <th>expenditure</th>\n",
       "      <th>owner</th>\n",
       "      <th>selfemp</th>\n",
       "      <th>dependents</th>\n",
       "      <th>months</th>\n",
       "      <th>majorcards</th>\n",
       "      <th>active</th>\n",
       "    </tr>\n",
       "  </thead>\n",
       "  <tbody>\n",
       "    <tr>\n",
       "      <th>0</th>\n",
       "      <td>3</td>\n",
       "      <td>40.50000</td>\n",
       "      <td>4.0128</td>\n",
       "      <td>0.000299</td>\n",
       "      <td>0.00000</td>\n",
       "      <td>no</td>\n",
       "      <td>no</td>\n",
       "      <td>1</td>\n",
       "      <td>12</td>\n",
       "      <td>1</td>\n",
       "      <td>17</td>\n",
       "    </tr>\n",
       "    <tr>\n",
       "      <th>1</th>\n",
       "      <td>1</td>\n",
       "      <td>32.33333</td>\n",
       "      <td>6.0000</td>\n",
       "      <td>0.000200</td>\n",
       "      <td>0.00000</td>\n",
       "      <td>yes</td>\n",
       "      <td>no</td>\n",
       "      <td>4</td>\n",
       "      <td>18</td>\n",
       "      <td>1</td>\n",
       "      <td>4</td>\n",
       "    </tr>\n",
       "    <tr>\n",
       "      <th>2</th>\n",
       "      <td>1</td>\n",
       "      <td>29.16667</td>\n",
       "      <td>2.2000</td>\n",
       "      <td>0.038205</td>\n",
       "      <td>69.79333</td>\n",
       "      <td>no</td>\n",
       "      <td>no</td>\n",
       "      <td>0</td>\n",
       "      <td>49</td>\n",
       "      <td>1</td>\n",
       "      <td>7</td>\n",
       "    </tr>\n",
       "    <tr>\n",
       "      <th>3</th>\n",
       "      <td>1</td>\n",
       "      <td>54.66667</td>\n",
       "      <td>7.2900</td>\n",
       "      <td>0.106536</td>\n",
       "      <td>647.20670</td>\n",
       "      <td>yes</td>\n",
       "      <td>no</td>\n",
       "      <td>2</td>\n",
       "      <td>78</td>\n",
       "      <td>1</td>\n",
       "      <td>9</td>\n",
       "    </tr>\n",
       "    <tr>\n",
       "      <th>4</th>\n",
       "      <td>0</td>\n",
       "      <td>25.00000</td>\n",
       "      <td>3.3984</td>\n",
       "      <td>0.000353</td>\n",
       "      <td>0.00000</td>\n",
       "      <td>yes</td>\n",
       "      <td>no</td>\n",
       "      <td>2</td>\n",
       "      <td>29</td>\n",
       "      <td>0</td>\n",
       "      <td>4</td>\n",
       "    </tr>\n",
       "  </tbody>\n",
       "</table>\n",
       "</div>"
      ],
      "text/plain": [
       "   reports       age  income     share  expenditure owner selfemp  dependents  \\\n",
       "0        3  40.50000  4.0128  0.000299      0.00000    no      no           1   \n",
       "1        1  32.33333  6.0000  0.000200      0.00000   yes      no           4   \n",
       "2        1  29.16667  2.2000  0.038205     69.79333    no      no           0   \n",
       "3        1  54.66667  7.2900  0.106536    647.20670   yes      no           2   \n",
       "4        0  25.00000  3.3984  0.000353      0.00000   yes      no           2   \n",
       "\n",
       "   months  majorcards  active  \n",
       "0      12           1      17  \n",
       "1      18           1       4  \n",
       "2      49           1       7  \n",
       "3      78           1       9  \n",
       "4      29           0       4  "
      ]
     },
     "execution_count": 55,
     "metadata": {},
     "output_type": "execute_result"
    }
   ],
   "source": [
    "df_train.head()"
   ]
  },
  {
   "cell_type": "code",
   "execution_count": 56,
   "id": "6c267c91",
   "metadata": {},
   "outputs": [
    {
     "data": {
      "text/plain": [
       "Index(['card', 'reports', 'age', 'income', 'share', 'expenditure', 'owner',\n",
       "       'selfemp', 'dependents', 'months', 'majorcards', 'active'],\n",
       "      dtype='object')"
      ]
     },
     "execution_count": 56,
     "metadata": {},
     "output_type": "execute_result"
    }
   ],
   "source": [
    "df.columns"
   ]
  },
  {
   "cell_type": "code",
   "execution_count": 57,
   "id": "bf3c67d4",
   "metadata": {},
   "outputs": [],
   "source": [
    "numerical = ['reports', 'age', 'income', 'share', 'expenditure', 'dependents', 'months', 'majorcards', 'active']\n",
    "categorical = ['owner', 'selfemp']"
   ]
  },
  {
   "cell_type": "markdown",
   "id": "e1e98ba1",
   "metadata": {},
   "source": [
    "# AUC"
   ]
  },
  {
   "cell_type": "code",
   "execution_count": 42,
   "id": "e39a1f27",
   "metadata": {},
   "outputs": [],
   "source": [
    "from sklearn.metrics import roc_auc_score"
   ]
  },
  {
   "cell_type": "code",
   "execution_count": 66,
   "id": "f575c8c1",
   "metadata": {},
   "outputs": [
    {
     "name": "stdout",
     "output_type": "stream",
     "text": [
      "    reports, 0.717\n",
      "        age, 0.524\n",
      "     income, 0.591\n",
      "      share, 0.989\n",
      "expenditure, 0.991\n",
      " dependents, 0.533\n",
      "     months, 0.529\n",
      " majorcards, 0.534\n",
      "     active, 0.604\n"
     ]
    }
   ],
   "source": [
    "auc_list = []\n",
    "for col in numerical:\n",
    "    auc = roc_auc_score(y_train, df_train[col])\n",
    "    if auc < 0.5:\n",
    "        auc = roc_auc_score(y_train, -df_train[col])\n",
    "    auc_list.append([col, auc.round(3)])\n",
    "    print('%11s, %.3f' % (col, auc))"
   ]
  },
  {
   "cell_type": "code",
   "execution_count": 81,
   "id": "e773eb39",
   "metadata": {},
   "outputs": [
    {
     "data": {
      "text/plain": [
       "array([1, 6, 5, 7, 2, 8, 0, 3, 4], dtype=int64)"
      ]
     },
     "execution_count": 81,
     "metadata": {},
     "output_type": "execute_result"
    }
   ],
   "source": [
    "#chosen_diffs[chosen_diffs[:, 1].argsort()]\n",
    "auc_arr = np.array(auc_list)\n",
    "auc_arr[:, 1].argsort()"
   ]
  },
  {
   "cell_type": "code",
   "execution_count": 83,
   "id": "6a681833",
   "metadata": {},
   "outputs": [
    {
     "data": {
      "text/plain": [
       "array([['age', '0.524'],\n",
       "       ['months', '0.529'],\n",
       "       ['dependents', '0.533'],\n",
       "       ['majorcards', '0.534'],\n",
       "       ['income', '0.591'],\n",
       "       ['active', '0.604'],\n",
       "       ['reports', '0.717'],\n",
       "       ['share', '0.989'],\n",
       "       ['expenditure', '0.991']], dtype='<U32')"
      ]
     },
     "execution_count": 83,
     "metadata": {},
     "output_type": "execute_result"
    }
   ],
   "source": [
    "auc_arr[auc_arr[:, 1].argsort()]"
   ]
  },
  {
   "cell_type": "code",
   "execution_count": 84,
   "id": "45550cba",
   "metadata": {},
   "outputs": [],
   "source": [
    "# Q1 share"
   ]
  },
  {
   "cell_type": "code",
   "execution_count": null,
   "id": "1458d939",
   "metadata": {},
   "outputs": [],
   "source": [
    "reports\n",
    "dependents\n",
    "active\n",
    "share"
   ]
  },
  {
   "cell_type": "markdown",
   "id": "ee9fd790",
   "metadata": {},
   "source": [
    "# Training the model"
   ]
  },
  {
   "cell_type": "code",
   "execution_count": 85,
   "id": "98781de9",
   "metadata": {},
   "outputs": [],
   "source": [
    "columns = [\"reports\", \"age\", \"income\", \"share\", \"expenditure\", \"dependents\", \"months\", \"majorcards\", \"active\", \"owner\", \"selfemp\"]"
   ]
  },
  {
   "cell_type": "code",
   "execution_count": 92,
   "id": "106304f9",
   "metadata": {},
   "outputs": [],
   "source": [
    "from sklearn.feature_extraction import DictVectorizer\n",
    "from sklearn.linear_model import LogisticRegression"
   ]
  },
  {
   "cell_type": "code",
   "execution_count": 101,
   "id": "6d4fd065",
   "metadata": {},
   "outputs": [],
   "source": [
    "train_dict = df_train[columns].to_dict(orient='records')\n",
    "dv = DictVectorizer(sparse=False)\n",
    "X_train = dv.fit_transform(train_dict)\n",
    "\n",
    "val_dict = df_val[columns].to_dict(orient='records')\n",
    "X_val = dv.fit_transform(val_dict)"
   ]
  },
  {
   "cell_type": "code",
   "execution_count": 98,
   "id": "a19cd44c",
   "metadata": {},
   "outputs": [
    {
     "data": {
      "text/html": [
       "<style>#sk-container-id-1 {color: black;background-color: white;}#sk-container-id-1 pre{padding: 0;}#sk-container-id-1 div.sk-toggleable {background-color: white;}#sk-container-id-1 label.sk-toggleable__label {cursor: pointer;display: block;width: 100%;margin-bottom: 0;padding: 0.3em;box-sizing: border-box;text-align: center;}#sk-container-id-1 label.sk-toggleable__label-arrow:before {content: \"▸\";float: left;margin-right: 0.25em;color: #696969;}#sk-container-id-1 label.sk-toggleable__label-arrow:hover:before {color: black;}#sk-container-id-1 div.sk-estimator:hover label.sk-toggleable__label-arrow:before {color: black;}#sk-container-id-1 div.sk-toggleable__content {max-height: 0;max-width: 0;overflow: hidden;text-align: left;background-color: #f0f8ff;}#sk-container-id-1 div.sk-toggleable__content pre {margin: 0.2em;color: black;border-radius: 0.25em;background-color: #f0f8ff;}#sk-container-id-1 input.sk-toggleable__control:checked~div.sk-toggleable__content {max-height: 200px;max-width: 100%;overflow: auto;}#sk-container-id-1 input.sk-toggleable__control:checked~label.sk-toggleable__label-arrow:before {content: \"▾\";}#sk-container-id-1 div.sk-estimator input.sk-toggleable__control:checked~label.sk-toggleable__label {background-color: #d4ebff;}#sk-container-id-1 div.sk-label input.sk-toggleable__control:checked~label.sk-toggleable__label {background-color: #d4ebff;}#sk-container-id-1 input.sk-hidden--visually {border: 0;clip: rect(1px 1px 1px 1px);clip: rect(1px, 1px, 1px, 1px);height: 1px;margin: -1px;overflow: hidden;padding: 0;position: absolute;width: 1px;}#sk-container-id-1 div.sk-estimator {font-family: monospace;background-color: #f0f8ff;border: 1px dotted black;border-radius: 0.25em;box-sizing: border-box;margin-bottom: 0.5em;}#sk-container-id-1 div.sk-estimator:hover {background-color: #d4ebff;}#sk-container-id-1 div.sk-parallel-item::after {content: \"\";width: 100%;border-bottom: 1px solid gray;flex-grow: 1;}#sk-container-id-1 div.sk-label:hover label.sk-toggleable__label {background-color: #d4ebff;}#sk-container-id-1 div.sk-serial::before {content: \"\";position: absolute;border-left: 1px solid gray;box-sizing: border-box;top: 0;bottom: 0;left: 50%;z-index: 0;}#sk-container-id-1 div.sk-serial {display: flex;flex-direction: column;align-items: center;background-color: white;padding-right: 0.2em;padding-left: 0.2em;position: relative;}#sk-container-id-1 div.sk-item {position: relative;z-index: 1;}#sk-container-id-1 div.sk-parallel {display: flex;align-items: stretch;justify-content: center;background-color: white;position: relative;}#sk-container-id-1 div.sk-item::before, #sk-container-id-1 div.sk-parallel-item::before {content: \"\";position: absolute;border-left: 1px solid gray;box-sizing: border-box;top: 0;bottom: 0;left: 50%;z-index: -1;}#sk-container-id-1 div.sk-parallel-item {display: flex;flex-direction: column;z-index: 1;position: relative;background-color: white;}#sk-container-id-1 div.sk-parallel-item:first-child::after {align-self: flex-end;width: 50%;}#sk-container-id-1 div.sk-parallel-item:last-child::after {align-self: flex-start;width: 50%;}#sk-container-id-1 div.sk-parallel-item:only-child::after {width: 0;}#sk-container-id-1 div.sk-dashed-wrapped {border: 1px dashed gray;margin: 0 0.4em 0.5em 0.4em;box-sizing: border-box;padding-bottom: 0.4em;background-color: white;}#sk-container-id-1 div.sk-label label {font-family: monospace;font-weight: bold;display: inline-block;line-height: 1.2em;}#sk-container-id-1 div.sk-label-container {text-align: center;}#sk-container-id-1 div.sk-container {/* jupyter's `normalize.less` sets `[hidden] { display: none; }` but bootstrap.min.css set `[hidden] { display: none !important; }` so we also need the `!important` here to be able to override the default hidden behavior on the sphinx rendered scikit-learn.org. See: https://github.com/scikit-learn/scikit-learn/issues/21755 */display: inline-block !important;position: relative;}#sk-container-id-1 div.sk-text-repr-fallback {display: none;}</style><div id=\"sk-container-id-1\" class=\"sk-top-container\"><div class=\"sk-text-repr-fallback\"><pre>LogisticRegression(max_iter=1000, solver=&#x27;liblinear&#x27;)</pre><b>In a Jupyter environment, please rerun this cell to show the HTML representation or trust the notebook. <br />On GitHub, the HTML representation is unable to render, please try loading this page with nbviewer.org.</b></div><div class=\"sk-container\" hidden><div class=\"sk-item\"><div class=\"sk-estimator sk-toggleable\"><input class=\"sk-toggleable__control sk-hidden--visually\" id=\"sk-estimator-id-1\" type=\"checkbox\" checked><label for=\"sk-estimator-id-1\" class=\"sk-toggleable__label sk-toggleable__label-arrow\">LogisticRegression</label><div class=\"sk-toggleable__content\"><pre>LogisticRegression(max_iter=1000, solver=&#x27;liblinear&#x27;)</pre></div></div></div></div></div>"
      ],
      "text/plain": [
       "LogisticRegression(max_iter=1000, solver='liblinear')"
      ]
     },
     "execution_count": 98,
     "metadata": {},
     "output_type": "execute_result"
    }
   ],
   "source": [
    "model = LogisticRegression(solver='liblinear', C=1.0, max_iter=1000)\n",
    "model.fit(X_train, y_train)"
   ]
  },
  {
   "cell_type": "code",
   "execution_count": 113,
   "id": "09a54a80",
   "metadata": {},
   "outputs": [
    {
     "data": {
      "text/plain": [
       "array([0, 1])"
      ]
     },
     "execution_count": 113,
     "metadata": {},
     "output_type": "execute_result"
    }
   ],
   "source": [
    "model.classes_"
   ]
  },
  {
   "cell_type": "code",
   "execution_count": 114,
   "id": "3c77c9a3",
   "metadata": {},
   "outputs": [],
   "source": [
    "y_pred = model.predict_proba(X_val)[:,1]"
   ]
  },
  {
   "cell_type": "code",
   "execution_count": 106,
   "id": "1ce7d03e",
   "metadata": {},
   "outputs": [
    {
     "data": {
      "text/plain": [
       "(264, 264)"
      ]
     },
     "execution_count": 106,
     "metadata": {},
     "output_type": "execute_result"
    }
   ],
   "source": [
    "len(y_pred), len(y_val)"
   ]
  },
  {
   "cell_type": "code",
   "execution_count": 118,
   "id": "1015a361",
   "metadata": {},
   "outputs": [
    {
     "data": {
      "text/plain": [
       "0.995"
      ]
     },
     "execution_count": 118,
     "metadata": {},
     "output_type": "execute_result"
    }
   ],
   "source": [
    "auc_model = roc_auc_score(y_val, y_pred)\n",
    "auc_model.round(3)  # Q2 0.995"
   ]
  },
  {
   "cell_type": "markdown",
   "id": "9ea0187e",
   "metadata": {},
   "source": [
    "# Precision and recall"
   ]
  },
  {
   "cell_type": "code",
   "execution_count": 119,
   "id": "c0439dea",
   "metadata": {},
   "outputs": [],
   "source": [
    "thresholds = np.linspace(0, 1, 101)"
   ]
  },
  {
   "cell_type": "code",
   "execution_count": 130,
   "id": "da780023",
   "metadata": {},
   "outputs": [
    {
     "name": "stdout",
     "output_type": "stream",
     "text": [
      "0.0 0.799 1.0\n",
      "0.01 0.861 1.0\n",
      "0.02 0.872 1.0\n",
      "0.03 0.898 1.0\n",
      "0.04 0.906 1.0\n",
      "0.05 0.906 1.0\n",
      "0.06 0.917 1.0\n",
      "0.07 0.917 1.0\n",
      "0.08 0.921 0.995\n",
      "0.09 0.921 0.995\n",
      "0.1 0.925 0.995\n",
      "0.11 0.925 0.995\n",
      "0.12 0.925 0.995\n",
      "0.13 0.95 0.995\n",
      "0.14 0.959 0.986\n",
      "0.15 0.959 0.986\n",
      "0.16 0.967 0.986\n",
      "0.17 0.967 0.986\n",
      "0.18 0.972 0.981\n",
      "0.19 0.976 0.981\n",
      "0.2 0.976 0.981\n",
      "0.21 0.976 0.981\n",
      "0.22 0.976 0.981\n",
      "0.23 0.976 0.981\n",
      "0.24 0.976 0.976\n",
      "0.25 0.976 0.976\n",
      "0.26 0.976 0.976\n",
      "0.27 0.976 0.976\n",
      "0.28 0.976 0.976\n",
      "0.29 0.976 0.976\n",
      "0.3 0.976 0.972\n",
      "0.31 0.981 0.972\n",
      "0.32 0.981 0.972\n",
      "0.33 0.981 0.972\n",
      "0.34 0.99 0.972\n",
      "0.35000000000000003 0.995 0.972\n",
      "0.36 0.995 0.972\n",
      "0.37 0.995 0.972\n",
      "0.38 0.995 0.972\n",
      "0.39 0.995 0.972\n",
      "0.4 0.995 0.972\n",
      "0.41000000000000003 0.995 0.972\n",
      "0.42 0.995 0.967\n",
      "0.43 0.995 0.967\n",
      "0.44 0.995 0.967\n",
      "0.45 0.995 0.967\n",
      "0.46 0.995 0.967\n",
      "0.47000000000000003 0.995 0.967\n",
      "0.48 0.995 0.967\n",
      "0.49 0.995 0.967\n",
      "0.5 0.995 0.967\n",
      "0.51 0.995 0.967\n",
      "0.52 0.995 0.967\n",
      "0.53 0.995 0.967\n",
      "0.54 0.995 0.967\n",
      "0.55 0.995 0.967\n",
      "0.56 0.995 0.967\n",
      "0.5700000000000001 0.995 0.967\n",
      "0.58 0.995 0.967\n",
      "0.59 0.995 0.967\n",
      "0.6 0.995 0.967\n",
      "0.61 0.995 0.967\n",
      "0.62 0.995 0.967\n",
      "0.63 0.995 0.967\n",
      "0.64 0.995 0.967\n",
      "0.65 0.995 0.967\n",
      "0.66 0.995 0.967\n",
      "0.67 0.995 0.967\n",
      "0.68 0.995 0.967\n",
      "0.6900000000000001 0.995 0.967\n",
      "0.7000000000000001 0.995 0.967\n",
      "0.71 0.995 0.967\n",
      "0.72 0.995 0.967\n",
      "0.73 0.995 0.967\n",
      "0.74 0.995 0.967\n",
      "0.75 0.995 0.967\n",
      "0.76 0.995 0.967\n",
      "0.77 0.995 0.967\n",
      "0.78 0.995 0.967\n",
      "0.79 0.995 0.967\n",
      "0.8 0.995 0.967\n",
      "0.81 0.995 0.967\n",
      "0.8200000000000001 0.995 0.967\n",
      "0.8300000000000001 0.995 0.967\n",
      "0.84 0.995 0.967\n",
      "0.85 1.0 0.967\n",
      "0.86 1.0 0.967\n",
      "0.87 1.0 0.967\n",
      "0.88 1.0 0.967\n",
      "0.89 1.0 0.967\n",
      "0.9 1.0 0.967\n",
      "0.91 1.0 0.967\n",
      "0.92 1.0 0.967\n",
      "0.93 1.0 0.967\n",
      "0.9400000000000001 1.0 0.967\n",
      "0.9500000000000001 1.0 0.967\n",
      "0.96 1.0 0.967\n",
      "0.97 1.0 0.962\n",
      "0.98 1.0 0.962\n",
      "0.99 1.0 0.957\n",
      "1.0 1.0 0.848\n"
     ]
    }
   ],
   "source": [
    "precisions = []\n",
    "recalls = []\n",
    "for thr in thresholds:\n",
    "    true_positive = ((y_pred >= thr)&(y_val == 1)).sum()\n",
    "    false_positive = ((y_pred >= thr)&(y_val == 0)).sum()\n",
    "    false_negative = ((y_pred < thr)&(y_val == 1)).sum()\n",
    "    true_negative = ((y_pred < thr)&(y_val == 0)).sum()\n",
    "    precision = true_positive / (true_positive + false_positive)\n",
    "    recall = true_positive / (true_positive + false_negative)\n",
    "    precisions.append(precision)\n",
    "    recalls.append(recall)\n",
    "    print(thr, precision.round(3), recall.round(3))"
   ]
  },
  {
   "cell_type": "code",
   "execution_count": 174,
   "id": "058af0fd",
   "metadata": {},
   "outputs": [
    {
     "data": {
      "image/png": "[encoded data removed]",
      "text/plain": [
       "<Figure size 640x480 with 1 Axes>"
      ]
     },
     "metadata": {},
     "output_type": "display_data"
    }
   ],
   "source": [
    "plt.plot(thresholds, precisions, label = 'precision')\n",
    "plt.plot(thresholds, recalls, label = 'recall')\n",
    "plt.vlines(0.28, 0.8, 1, color = 'grey', linestyle ='--', alpha =0.5)\n",
    "plt.title('Precision and Recall')\n",
    "plt.xlabel('threshold')\n",
    "plt.xticks(np.linspace(0, 1, 11))\n",
    "plt.legend()\n",
    "plt.show()"
   ]
  },
  {
   "cell_type": "code",
   "execution_count": 144,
   "id": "b6cb7d28",
   "metadata": {},
   "outputs": [],
   "source": [
    "# Q3 0.3"
   ]
  },
  {
   "cell_type": "markdown",
   "id": "3099bfdb",
   "metadata": {},
   "source": [
    "# F1 score"
   ]
  },
  {
   "cell_type": "markdown",
   "id": "64776819",
   "metadata": {},
   "source": [
    "F1 = 2 * P * R / (P + R)"
   ]
  },
  {
   "cell_type": "code",
   "execution_count": 153,
   "id": "7353d510",
   "metadata": {},
   "outputs": [
    {
     "data": {
      "text/plain": [
       "array([0.82306024, 0.85473432, 0.8599597 , 0.87240431, 0.87602635,\n",
       "       0.87602635, 0.88151615, 0.88151615, 0.88320293, 0.88320293,\n",
       "       0.8850641 , 0.8850641 , 0.8850641 , 0.89639795, 0.90007373,\n",
       "       0.90007373, 0.90398553, 0.90398553, 0.90589702, 0.90788361,\n",
       "       0.90788361, 0.90788361, 0.90788361, 0.90788361, 0.90783529,\n",
       "       0.90783529, 0.90783529, 0.90783529, 0.90783529, 0.90783529,\n",
       "       0.90778651, 0.90980091, 0.90980091, 0.90980091, 0.91385665,\n",
       "       0.91589811, 0.91589811, 0.91589811, 0.91589811, 0.91589811,\n",
       "       0.91589811, 0.91589811, 0.91588808, 0.91588808, 0.91588808,\n",
       "       0.91588808, 0.91588808, 0.91588808, 0.91588808, 0.91588808,\n",
       "       0.91588808, 0.91588808, 0.91588808, 0.91588808, 0.91588808,\n",
       "       0.91588808, 0.91588808, 0.91588808, 0.91588808, 0.91588808,\n",
       "       0.91588808, 0.91588808, 0.91588808, 0.91588808, 0.91588808,\n",
       "       0.91588808, 0.91588808, 0.91588808, 0.91588808, 0.91588808,\n",
       "       0.91588808, 0.91588808, 0.91588808, 0.91588808, 0.91588808,\n",
       "       0.91588808, 0.91588808, 0.91588808, 0.91588808, 0.91588808,\n",
       "       0.91588808, 0.91588808, 0.91588808, 0.91588808, 0.91588808,\n",
       "       0.91794872, 0.91794872, 0.91794872, 0.91794872, 0.91794872,\n",
       "       0.91794872, 0.91794872, 0.91794872, 0.91794872, 0.91794872,\n",
       "       0.91794872, 0.91794872, 0.91794872, 0.91794872, 0.91794872,\n",
       "       0.91794872])"
      ]
     },
     "execution_count": 153,
     "metadata": {},
     "output_type": "execute_result"
    }
   ],
   "source": [
    "p = np.array(precisions)\n",
    "r = np.array(recall)\n",
    "f1 = 2*p*r/(p+r)\n",
    "f1"
   ]
  },
  {
   "cell_type": "code",
   "execution_count": 162,
   "id": "8a47b472",
   "metadata": {},
   "outputs": [],
   "source": [
    "thr_f1 = np.array(list(zip(thresholds, f1)))"
   ]
  },
  {
   "cell_type": "code",
   "execution_count": 165,
   "id": "33b54d62",
   "metadata": {},
   "outputs": [
    {
     "data": {
      "text/plain": [
       "array([[0.        , 0.82306024],\n",
       "       [0.01      , 0.85473432],\n",
       "       [0.02      , 0.8599597 ],\n",
       "       [0.03      , 0.87240431],\n",
       "       [0.04      , 0.87602635],\n",
       "       [0.05      , 0.87602635],\n",
       "       [0.06      , 0.88151615],\n",
       "       [0.07      , 0.88151615],\n",
       "       [0.08      , 0.88320293],\n",
       "       [0.09      , 0.88320293],\n",
       "       [0.12      , 0.8850641 ],\n",
       "       [0.11      , 0.8850641 ],\n",
       "       [0.1       , 0.8850641 ],\n",
       "       [0.13      , 0.89639795],\n",
       "       [0.14      , 0.90007373],\n",
       "       [0.15      , 0.90007373],\n",
       "       [0.16      , 0.90398553],\n",
       "       [0.17      , 0.90398553],\n",
       "       [0.18      , 0.90589702],\n",
       "       [0.3       , 0.90778651],\n",
       "       [0.28      , 0.90783529],\n",
       "       [0.27      , 0.90783529],\n",
       "       [0.26      , 0.90783529],\n",
       "       [0.25      , 0.90783529],\n",
       "       [0.29      , 0.90783529],\n",
       "       [0.24      , 0.90783529],\n",
       "       [0.23      , 0.90788361],\n",
       "       [0.22      , 0.90788361],\n",
       "       [0.21      , 0.90788361],\n",
       "       [0.2       , 0.90788361],\n",
       "       [0.19      , 0.90788361],\n",
       "       [0.31      , 0.90980091],\n",
       "       [0.32      , 0.90980091],\n",
       "       [0.33      , 0.90980091],\n",
       "       [0.34      , 0.91385665],\n",
       "       [0.7       , 0.91588808],\n",
       "       [0.69      , 0.91588808],\n",
       "       [0.68      , 0.91588808],\n",
       "       [0.67      , 0.91588808],\n",
       "       [0.63      , 0.91588808],\n",
       "       [0.65      , 0.91588808],\n",
       "       [0.64      , 0.91588808],\n",
       "       [0.71      , 0.91588808],\n",
       "       [0.62      , 0.91588808],\n",
       "       [0.66      , 0.91588808],\n",
       "       [0.72      , 0.91588808],\n",
       "       [0.77      , 0.91588808],\n",
       "       [0.74      , 0.91588808],\n",
       "       [0.75      , 0.91588808],\n",
       "       [0.76      , 0.91588808],\n",
       "       [0.78      , 0.91588808],\n",
       "       [0.79      , 0.91588808],\n",
       "       [0.8       , 0.91588808],\n",
       "       [0.81      , 0.91588808],\n",
       "       [0.82      , 0.91588808],\n",
       "       [0.83      , 0.91588808],\n",
       "       [0.84      , 0.91588808],\n",
       "       [0.61      , 0.91588808],\n",
       "       [0.73      , 0.91588808],\n",
       "       [0.6       , 0.91588808],\n",
       "       [0.5       , 0.91588808],\n",
       "       [0.58      , 0.91588808],\n",
       "       [0.42      , 0.91588808],\n",
       "       [0.43      , 0.91588808],\n",
       "       [0.44      , 0.91588808],\n",
       "       [0.45      , 0.91588808],\n",
       "       [0.46      , 0.91588808],\n",
       "       [0.47      , 0.91588808],\n",
       "       [0.48      , 0.91588808],\n",
       "       [0.49      , 0.91588808],\n",
       "       [0.51      , 0.91588808],\n",
       "       [0.52      , 0.91588808],\n",
       "       [0.53      , 0.91588808],\n",
       "       [0.54      , 0.91588808],\n",
       "       [0.55      , 0.91588808],\n",
       "       [0.56      , 0.91588808],\n",
       "       [0.57      , 0.91588808],\n",
       "       [0.59      , 0.91588808],\n",
       "       [0.37      , 0.91589811],\n",
       "       [0.36      , 0.91589811],\n",
       "       [0.35      , 0.91589811],\n",
       "       [0.39      , 0.91589811],\n",
       "       [0.4       , 0.91589811],\n",
       "       [0.41      , 0.91589811],\n",
       "       [0.38      , 0.91589811],\n",
       "       [0.98      , 0.91794872],\n",
       "       [0.97      , 0.91794872],\n",
       "       [0.96      , 0.91794872],\n",
       "       [0.95      , 0.91794872],\n",
       "       [0.94      , 0.91794872],\n",
       "       [0.93      , 0.91794872],\n",
       "       [0.92      , 0.91794872],\n",
       "       [0.91      , 0.91794872],\n",
       "       [0.89      , 0.91794872],\n",
       "       [0.88      , 0.91794872],\n",
       "       [0.87      , 0.91794872],\n",
       "       [0.86      , 0.91794872],\n",
       "       [0.85      , 0.91794872],\n",
       "       [0.99      , 0.91794872],\n",
       "       [0.9       , 0.91794872],\n",
       "       [1.        , 0.91794872]])"
      ]
     },
     "execution_count": 165,
     "metadata": {},
     "output_type": "execute_result"
    }
   ],
   "source": [
    "thr_f1[thr_f1[:,1].argsort()]"
   ]
  },
  {
   "cell_type": "code",
   "execution_count": 166,
   "id": "21144056",
   "metadata": {},
   "outputs": [],
   "source": [
    "# Q4 0.4???"
   ]
  },
  {
   "cell_type": "markdown",
   "id": "64d166e8",
   "metadata": {},
   "source": [
    "# KFold cross-validation"
   ]
  },
  {
   "cell_type": "code",
   "execution_count": null,
   "id": "ea32c510",
   "metadata": {},
   "outputs": [],
   "source": []
  },
  {
   "cell_type": "code",
   "execution_count": 178,
   "id": "49a3815e",
   "metadata": {},
   "outputs": [],
   "source": [
    "def train_model(df, y):\n",
    "    data = df[columns].to_dict(orient='records')\n",
    "    \n",
    "    dv = DictVectorizer(sparse=False)\n",
    "    X = dv.fit_transform(data)\n",
    "    \n",
    "    model = LogisticRegression(solver='liblinear', C=1.0, max_iter=1000)\n",
    "    model.fit(X, y)\n",
    "    \n",
    "    return model, dv\n",
    "    "
   ]
  },
  {
   "cell_type": "code",
   "execution_count": 193,
   "id": "cef8414b",
   "metadata": {},
   "outputs": [],
   "source": [
    "def predict(df, dv, model):\n",
    "    data = df[columns].to_dict(orient='records')\n",
    "    X = dv.transform(data)\n",
    "    y_pred = model.predict_proba(X)[:,1]\n",
    "    \n",
    "    return y_pred"
   ]
  },
  {
   "cell_type": "code",
   "execution_count": 194,
   "id": "7188e3ef",
   "metadata": {},
   "outputs": [],
   "source": [
    "from sklearn.model_selection import KFold"
   ]
  },
  {
   "cell_type": "code",
   "execution_count": 195,
   "id": "ebe569c7",
   "metadata": {},
   "outputs": [],
   "source": [
    "kfold = KFold(n_splits=5, shuffle=True, random_state=1)"
   ]
  },
  {
   "cell_type": "code",
   "execution_count": 199,
   "id": "e0f7ea49",
   "metadata": {},
   "outputs": [],
   "source": [
    "aucs = []\n",
    "for train_ind, val_ind in kfold.split(df_full_train):\n",
    "    df_train = df_full_train.iloc[train_ind]\n",
    "    y_train = df_train.card.values\n",
    "    \n",
    "    df_val = df_full_train.iloc[val_ind]\n",
    "    y_val = df_val.card.values\n",
    "    \n",
    "    model, dv = train_model(df_train, y_train)\n",
    "    y_pred = predict(df_val, dv, model)\n",
    "    \n",
    "    rocauc = roc_auc_score(y_val, y_pred)\n",
    "    aucs.append(rocauc)\n"
   ]
  },
  {
   "cell_type": "code",
   "execution_count": 202,
   "id": "b3cd5df7",
   "metadata": {},
   "outputs": [
    {
     "data": {
      "text/plain": [
       "array([0.994, 0.994, 0.994, 1.   , 1.   ])"
      ]
     },
     "execution_count": 202,
     "metadata": {},
     "output_type": "execute_result"
    }
   ],
   "source": [
    "np.array(aucs).round(3)"
   ]
  },
  {
   "cell_type": "code",
   "execution_count": 205,
   "id": "dcec30e5",
   "metadata": {},
   "outputs": [
    {
     "data": {
      "text/plain": [
       "0.003"
      ]
     },
     "execution_count": 205,
     "metadata": {},
     "output_type": "execute_result"
    }
   ],
   "source": [
    "np.std(aucs).round(3) # Q5 0.003"
   ]
  },
  {
   "cell_type": "markdown",
   "id": "4657c0fd",
   "metadata": {},
   "source": [
    "# Tuning the parameter C"
   ]
  },
  {
   "cell_type": "code",
   "execution_count": 206,
   "id": "e45d0f6c",
   "metadata": {},
   "outputs": [],
   "source": [
    "C = [0.01, 0.1, 1, 10]"
   ]
  },
  {
   "cell_type": "code",
   "execution_count": 217,
   "id": "896a57f6",
   "metadata": {},
   "outputs": [],
   "source": [
    "def train(df, y, C = 0.1):\n",
    "    data = df[columns].to_dict(orient = 'records')\n",
    "    \n",
    "    dv = DictVectorizer(sparse=False)\n",
    "    X = dv.fit_transform(data)\n",
    "\n",
    "    model = LogisticRegression(solver='liblinear', C=C, max_iter=1000)\n",
    "    model.fit(X, y)\n",
    "    \n",
    "    return dv, model"
   ]
  },
  {
   "cell_type": "code",
   "execution_count": 227,
   "id": "c966bd9c",
   "metadata": {},
   "outputs": [
    {
     "name": "stdout",
     "output_type": "stream",
     "text": [
      "C=0.01, auc = 0.992 ± 0.006\n",
      "C=0.1, auc = 0.995 ± 0.004\n",
      "C=1, auc = 0.996 ± 0.003\n",
      "C=10, auc = 0.996 ± 0.003\n"
     ]
    }
   ],
   "source": [
    "nfold = 5\n",
    "kfold = KFold(n_splits=nfold, shuffle=True, random_state=1)\n",
    "\n",
    "for C in [0.01, 0.1, 1, 10]:\n",
    "    aucs = []\n",
    "    \n",
    "    for train_ind, val_ind in kfold.split(df_full_train):\n",
    "        df_train = df_full_train.iloc[train_ind]\n",
    "        y_train = df_train.card.values\n",
    "        \n",
    "        df_val = df_full_train.iloc[val_ind]\n",
    "        y_val = df_val.card.values\n",
    "        \n",
    "        dv, model = train(df_train, y_train, C)\n",
    "        \n",
    "        y_pred = predict(df_val, dv, model)\n",
    "        \n",
    "        auc = roc_auc_score(y_val, y_pred)\n",
    "        aucs.append(auc)\n",
    "        \n",
    "    print('C=%s, auc = %0.3f ± %0.3f' %(C, np.mean(aucs), np.std(aucs)))\n",
    "        \n",
    "    "
   ]
  },
  {
   "cell_type": "code",
   "execution_count": 228,
   "id": "ca6f5e44",
   "metadata": {},
   "outputs": [],
   "source": [
    "#Q6 C= 1"
   ]
  },
  {
   "cell_type": "code",
   "execution_count": null,
   "id": "1aa74f50",
   "metadata": {},
   "outputs": [],
   "source": []
  }
 ],
 "metadata": {
  "kernelspec": {
   "display_name": "Python 3 (ipykernel)",
   "language": "python",
   "name": "python3"
  },
  "language_info": {
   "codemirror_mode": {
    "name": "ipython",
    "version": 3
   },
   "file_extension": ".py",
   "mimetype": "text/x-python",
   "name": "python",
   "nbconvert_exporter": "python",
   "pygments_lexer": "ipython3",
   "version": "3.9.13"
  }
 },
 "nbformat": 4,
 "nbformat_minor": 5
}
